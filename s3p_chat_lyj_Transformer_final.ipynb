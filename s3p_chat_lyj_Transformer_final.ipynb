{
 "cells": [
  {
   "cell_type": "markdown",
   "metadata": {
    "id": "kerCnUmZntTg"
   },
   "source": [
    "#### Base Settings"
   ]
  },
  {
   "cell_type": "markdown",
   "metadata": {
    "id": "fOE2A-VpnpEf"
   },
   "source": [
    "##### Library"
   ]
  },
  {
   "cell_type": "code",
   "execution_count": 1,
   "metadata": {
    "executionInfo": {
     "elapsed": 7242,
     "status": "ok",
     "timestamp": 1678668468969,
     "user": {
      "displayName": "이엽",
      "userId": "04261185762232439637"
     },
     "user_tz": -540
    },
    "id": "CMuA5cKwjlM4"
   },
   "outputs": [],
   "source": [
    "# Library import\n",
    "\n",
    "## pandas\n",
    "import pandas as pd\n",
    "\n",
    "import gdown\n",
    "import zipfile as zf\n",
    "from tqdm import tqdm\n",
    "import nltk\n",
    "\n",
    "import os\n",
    "import numpy as np\n",
    "import matplotlib.pyplot as plt\n",
    "import re\n",
    "import json\n",
    "import string\n",
    "from collections import Counter\n",
    "import random\n",
    "\n",
    "# shikit learn\n",
    "from sklearn.feature_extraction.text import CountVectorizer, TfidfVectorizer\n",
    "from sklearn.metrics.pairwise import cosine_similarity\n",
    "from sklearn.neighbors import NearestNeighbors\n",
    "from sklearn.decomposition import PCA\n",
    "\n",
    "import tensorflow as tf\n",
    "import tensorflow as keras\n",
    "from keras import layers, Input, Sequential, Model\n",
    "from keras.models import Sequential\n",
    "from keras.layers import Dense, Embedding, Flatten, GlobalAveragePooling1D, \\\n",
    "                                    TextVectorization\n",
    "import tensorflow_datasets as tfds"
   ]
  },
  {
   "cell_type": "markdown",
   "metadata": {
    "id": "zECiyyB3aTVy"
   },
   "source": [
    "##### Parmas"
   ]
  },
  {
   "cell_type": "code",
   "execution_count": 2,
   "metadata": {
    "executionInfo": {
     "elapsed": 3,
     "status": "ok",
     "timestamp": 1678668468969,
     "user": {
      "displayName": "이엽",
      "userId": "04261185762232439637"
     },
     "user_tz": -540
    },
    "id": "XNBuPbA_jlKa"
   },
   "outputs": [],
   "source": [
    "RAND_SEED = 83\n",
    "random.seed(RAND_SEED)\n",
    "\n",
    "NUM_TEXT_DATA       = 1         #📌 사용할 데이터 비율\n",
    "MAX_LENGTH          = 20            #📌 문장 길이\n",
    "BATCH_SIZE          = 64\n",
    "BUFFER_SIZE         = 20000\n",
    "NUM_LAYERS          = 2\n",
    "D_MODEL             = 512\n",
    "NUM_HEADS           = 4\n",
    "DFF                 = 256\n",
    "DROPOUT             = 0.1\n",
    "VOCAB_SIZE          = 10000\n",
    "EPOCHS              = 10"
   ]
  },
  {
   "cell_type": "markdown",
   "metadata": {
    "id": "EKgXlc6Pn28I"
   },
   "source": [
    "### Data handling"
   ]
  },
  {
   "cell_type": "code",
   "execution_count": 3,
   "metadata": {
    "executionInfo": {
     "elapsed": 2,
     "status": "ok",
     "timestamp": 1678668468969,
     "user": {
      "displayName": "이엽",
      "userId": "04261185762232439637"
     },
     "user_tz": -540
    },
    "id": "wEo2FSCqtE-t"
   },
   "outputs": [],
   "source": [
    "def collect_json_file(path):\n",
    "    \"\"\"\n",
    "    폴더의 json파일을 모두 불러와 리스트로 반환하는 함수\n",
    "    \"\"\"\n",
    "    file_list = os.listdir(path)\n",
    "\n",
    "    json_list = []\n",
    "    for file_name in file_list:\n",
    "        if '.json' in file_name:\n",
    "            json_list.append(file_name)\n",
    "\n",
    "    return json_list"
   ]
  },
  {
   "cell_type": "code",
   "execution_count": 4,
   "metadata": {
    "executionInfo": {
     "elapsed": 3,
     "status": "ok",
     "timestamp": 1678668468970,
     "user": {
      "displayName": "이엽",
      "userId": "04261185762232439637"
     },
     "user_tz": -540
    },
    "id": "kc3HFO9Y5YI_"
   },
   "outputs": [],
   "source": [
    "def parsing_corpus(js):\n",
    "    Q1_list = [js[x][\"talk\"][\"content\"][\"HS01\"] for x in range(len(js))]\n",
    "    Q2_list = [js[x][\"talk\"][\"content\"][\"HS02\"] for x in range(len(js))]\n",
    "    Q3_list = [js[x][\"talk\"][\"content\"][\"HS03\"] for x in range(len(js))]\n",
    "    A1_list = [js[x][\"talk\"][\"content\"][\"SS01\"] for x in range(len(js))]\n",
    "    A2_list = [js[x][\"talk\"][\"content\"][\"SS02\"] for x in range(len(js))]\n",
    "    A3_list = [js[x][\"talk\"][\"content\"][\"SS03\"] for x in range(len(js))]\n",
    "\n",
    "    df_qa = pd.DataFrame({\"Q1\":Q1_list,\"A1\":A1_list,\"Q2\":Q2_list,\"A2\":A2_list,\"Q3\":Q3_list,\"A3\":A3_list})\n",
    "\n",
    "    return df_qa"
   ]
  },
  {
   "cell_type": "markdown",
   "metadata": {
    "id": "dyxyTExa-b9o"
   },
   "source": [
    "#### 감성 대화 말뭉치\n",
    "\n",
    "- [감성 대화 말뭉치](https://aihub.or.kr/aihubdata/data/view.do?currMenu=115&topMenu=100&aihubDataSe=realm&dataSetSn=86)\n",
    "\n",
    "\n",
    "\n",
    "2020년/10,000문장 (음성), 27만문장 (코퍼스)\n",
    "\n"
   ]
  },
  {
   "cell_type": "code",
   "execution_count": 5,
   "metadata": {
    "colab": {
     "base_uri": "https://localhost:8080/"
    },
    "executionInfo": {
     "elapsed": 9444,
     "status": "ok",
     "timestamp": 1678668478411,
     "user": {
      "displayName": "이엽",
      "userId": "04261185762232439637"
     },
     "user_tz": -540
    },
    "id": "6eBV5djk-czP",
    "outputId": "74a9b515-d057-411c-807c-583718e3f1ae"
   },
   "outputs": [],
   "source": [
    "# # 구글드라이브에서 데이터파일(.json) 불러와서 폴더에 저장\n",
    "\n",
    "# ## 데이터파일 불러올 URL\n",
    "# url_list = [\"https://drive.google.com/file/d/1lroyujd9fnnPVWUVnqZtIUpl_bliZpCg/view?usp=sharing\",\n",
    "#             \"https://drive.google.com/file/d/1lwHywo0OIItRgOv-nK_M_tlxTD_HhG-c/view?usp=sharing\"]\n",
    "\n",
    "# for idx, val in enumerate(url_list):\n",
    "#     data_url = val\n",
    "#     file_name = \"donwload.zip\"\n",
    "#     unzip_path = \"data/emotion/\"\n",
    "\n",
    "#     # 데이터 다운로드\n",
    "#     file_id = \"https://drive.google.com/uc?id=\" + data_url.split('/')[-2]\n",
    "#     gdown.download(file_id, file_name)\n",
    "\n",
    "#     # 압축풀기\n",
    "#     files = zf.ZipFile(file_name)\n",
    "#     files.extractall(unzip_path)\n",
    "#     files.close()\n",
    "\n",
    "# # 데이터파일(.json)\n",
    "# json_list = collect_json_file(unzip_path)\n",
    "# print(f\"\\n데이터파일 개수 : {len(json_list)}개\")\n",
    "\n",
    "# with tqdm(total=len(json_list)) as pbar:\n",
    "#     df_concat = pd.DataFrame()\n",
    "#     for idx, val in enumerate(json_list):\n",
    "#         with open(unzip_path+json_list[idx]) as f:\n",
    "#             js = json.loads(f.read())\n",
    "#             df_qa = parsing_corpus(js)\n",
    "#             print(f\"{idx+1}번째 파일의 크기: {df_qa.shape}\")\n",
    "#             df_concat = pd.concat([df_concat,df_qa])\n",
    "#         pbar.update()\n",
    "\n",
    "# print(f\"\\n데이터파일의 크기(shape) : {df_concat.shape}\")"
   ]
  },
  {
   "cell_type": "code",
   "execution_count": 8,
   "metadata": {
    "colab": {
     "base_uri": "https://localhost:8080/"
    },
    "executionInfo": {
     "elapsed": 4809,
     "status": "ok",
     "timestamp": 1678668483207,
     "user": {
      "displayName": "이엽",
      "userId": "04261185762232439637"
     },
     "user_tz": -540
    },
    "id": "T-16bKCH4pPp",
    "outputId": "33cbf721-c35b-4a0f-d563-e4710c7a5afc"
   },
   "outputs": [
    {
     "name": "stderr",
     "output_type": "stream",
     "text": [
      "100%|██████████| 2/2 [00:01<00:00,  1.65it/s]"
     ]
    },
    {
     "name": "stdout",
     "output_type": "stream",
     "text": [
      "1번째 파일의 크기: (51628, 6)\n",
      "2번째 파일의 크기: (6640, 6)\n",
      "\n",
      "데이터파일의 크기(shape) : (58268, 6)\n"
     ]
    },
    {
     "name": "stderr",
     "output_type": "stream",
     "text": [
      "\n"
     ]
    }
   ],
   "source": [
    "# 작업폴더에 직접 json 파일 업로드\n",
    "\n",
    "json_list = [\"감성대화말뭉치(최종데이터)_Training.json\", \"감성대화말뭉치(최종데이터)_Validation.json\"]\n",
    "with tqdm(total=len(json_list)) as pbar:\n",
    "    df_concat = pd.DataFrame()\n",
    "    for idx, val in enumerate(json_list):\n",
    "        with open(json_list[idx]) as f:\n",
    "            js = json.loads(f.read())\n",
    "            df_qa = parsing_corpus(js)\n",
    "            print(f\"{idx+1}번째 파일의 크기: {df_qa.shape}\")\n",
    "            df_concat = pd.concat([df_concat,df_qa])\n",
    "        pbar.update()\n",
    "\n",
    "print(f\"\\n데이터파일의 크기(shape) : {df_concat.shape}\")"
   ]
  },
  {
   "cell_type": "code",
   "execution_count": 9,
   "metadata": {
    "colab": {
     "base_uri": "https://localhost:8080/"
    },
    "executionInfo": {
     "elapsed": 16,
     "status": "ok",
     "timestamp": 1678668483208,
     "user": {
      "displayName": "이엽",
      "userId": "04261185762232439637"
     },
     "user_tz": -540
    },
    "id": "2YGvH2sj344L",
    "outputId": "6708d24b-0b4d-4714-b7b8-802900310977"
   },
   "outputs": [
    {
     "name": "stdout",
     "output_type": "stream",
     "text": [
      "질문1 : 일은 왜 해도 해도 끝이 없을까? 화가 난다.\n",
      "답변1 : 많이 힘드시겠어요. 주위에 의논할 상대가 있나요?\n",
      "질문2 : 그냥 내가 해결하는 게 나아. 남들한테 부담 주고 싶지도 않고.\n",
      "답변2 : 혼자 해결하기로 했군요. 혼자서 해결하기 힘들면 주위에 의논할 사람을 찾아보세요. \n",
      "질문3 : \n",
      "답변3 : \n"
     ]
    }
   ],
   "source": [
    "print(f\"질문1 : {df_concat.iloc[0,0]}\")\n",
    "print(f\"답변1 : {df_concat.iloc[0,1]}\")\n",
    "print(f\"질문2 : {df_concat.iloc[0,2]}\")\n",
    "print(f\"답변2 : {df_concat.iloc[0,3]}\")\n",
    "print(f\"질문3 : {df_concat.iloc[0,4]}\")\n",
    "print(f\"답변3 : {df_concat.iloc[0,5]}\")"
   ]
  },
  {
   "cell_type": "code",
   "execution_count": 10,
   "metadata": {
    "colab": {
     "base_uri": "https://localhost:8080/",
     "height": 528
    },
    "executionInfo": {
     "elapsed": 12,
     "status": "ok",
     "timestamp": 1678668483208,
     "user": {
      "displayName": "이엽",
      "userId": "04261185762232439637"
     },
     "user_tz": -540
    },
    "id": "i4DOAiMcP7a1",
    "outputId": "b55cfa72-0c86-4be2-8903-c7938ac39f32"
   },
   "outputs": [
    {
     "data": {
      "text/html": [
       "<div>\n",
       "<style scoped>\n",
       "    .dataframe tbody tr th:only-of-type {\n",
       "        vertical-align: middle;\n",
       "    }\n",
       "\n",
       "    .dataframe tbody tr th {\n",
       "        vertical-align: top;\n",
       "    }\n",
       "\n",
       "    .dataframe thead th {\n",
       "        text-align: right;\n",
       "    }\n",
       "</style>\n",
       "<table border=\"1\" class=\"dataframe\">\n",
       "  <thead>\n",
       "    <tr style=\"text-align: right;\">\n",
       "      <th></th>\n",
       "      <th>Q1</th>\n",
       "      <th>A1</th>\n",
       "      <th>Q2</th>\n",
       "      <th>A2</th>\n",
       "      <th>Q3</th>\n",
       "      <th>A3</th>\n",
       "    </tr>\n",
       "  </thead>\n",
       "  <tbody>\n",
       "    <tr>\n",
       "      <th>6635</th>\n",
       "      <td>나랑 비슷한 시기에 결혼하는 친구는 시댁에서 집을 해줘서 너무 부러워. 우리는 대출...</td>\n",
       "      <td>같은 시기에 결혼하는 친구들끼리 상황이 다르다 보니 마음이 좋지 않으시겠어요.</td>\n",
       "      <td>우리만 뒤처지는 것 같고. 그래도 열심히 살다 보면 우리도 집을 살 수 있겠지?</td>\n",
       "      <td>우리 부부만 뒤처지는 것 같아 속상하지만 열심히 살다 보면 집을 살 수 있다고 믿으...</td>\n",
       "      <td></td>\n",
       "      <td></td>\n",
       "    </tr>\n",
       "    <tr>\n",
       "      <th>6636</th>\n",
       "      <td>친구 한 명이 결혼해서 아이를 가졌는데 너무 행복해 보이더라. 기분이 좋지만은 않아.</td>\n",
       "      <td>기분이 좋지 않으신 이유를 알고 계시나요?</td>\n",
       "      <td>나도 결혼했지만 아이도 생기지 않고 그 정도로 행복하지 않거든. 친구보다 못사는 것...</td>\n",
       "      <td>친구분과 비교하게 되어 기분이 좋지 않으셨군요. 어떻게 하면 기분이 풀릴 수 있을까요?</td>\n",
       "      <td></td>\n",
       "      <td></td>\n",
       "    </tr>\n",
       "    <tr>\n",
       "      <th>6637</th>\n",
       "      <td>남들은 결혼 전에 일억을 모았다는데 난 뭐를 한 것인지 모르겠어. 자괴감만 드네.</td>\n",
       "      <td>돈을 모으는 것으로 자괴감이 드시는군요.</td>\n",
       "      <td>요새 집값이 너무 올라서 한숨만 나와.</td>\n",
       "      <td>집값이 올라 한숨만 나오시는군요.</td>\n",
       "      <td></td>\n",
       "      <td></td>\n",
       "    </tr>\n",
       "    <tr>\n",
       "      <th>6638</th>\n",
       "      <td>나보다 결혼을 먼저 한 친구가 부러워. 그 친구 남편은 직장도 내 남편보다 좋고 키...</td>\n",
       "      <td>먼저 결혼한 친구가 부럽군요.</td>\n",
       "      <td>맞아. 그 친구와 비교하게 되니 자존감이 낮아지는 기분이야.</td>\n",
       "      <td>비교로 자존감이 낮아지는군요.</td>\n",
       "      <td></td>\n",
       "      <td></td>\n",
       "    </tr>\n",
       "    <tr>\n",
       "      <th>6639</th>\n",
       "      <td>친구들 모두 결혼하고 나만 혼자 남아서 쓸쓸하네.</td>\n",
       "      <td>혼자 남아 외로움을 느끼는 것 같군요.</td>\n",
       "      <td>맞아. 하지만 그렇다고 아무나하고 결혼할 수도 없잖아.</td>\n",
       "      <td>이럴 때 기분을 나아지게 해 줄 만한 방법이 있을까요?</td>\n",
       "      <td></td>\n",
       "      <td></td>\n",
       "    </tr>\n",
       "  </tbody>\n",
       "</table>\n",
       "</div>"
      ],
      "text/plain": [
       "                                                     Q1  \\\n",
       "6635  나랑 비슷한 시기에 결혼하는 친구는 시댁에서 집을 해줘서 너무 부러워. 우리는 대출...   \n",
       "6636    친구 한 명이 결혼해서 아이를 가졌는데 너무 행복해 보이더라. 기분이 좋지만은 않아.   \n",
       "6637      남들은 결혼 전에 일억을 모았다는데 난 뭐를 한 것인지 모르겠어. 자괴감만 드네.   \n",
       "6638  나보다 결혼을 먼저 한 친구가 부러워. 그 친구 남편은 직장도 내 남편보다 좋고 키...   \n",
       "6639                        친구들 모두 결혼하고 나만 혼자 남아서 쓸쓸하네.   \n",
       "\n",
       "                                               A1  \\\n",
       "6635  같은 시기에 결혼하는 친구들끼리 상황이 다르다 보니 마음이 좋지 않으시겠어요.   \n",
       "6636                      기분이 좋지 않으신 이유를 알고 계시나요?   \n",
       "6637                       돈을 모으는 것으로 자괴감이 드시는군요.   \n",
       "6638                             먼저 결혼한 친구가 부럽군요.   \n",
       "6639                        혼자 남아 외로움을 느끼는 것 같군요.   \n",
       "\n",
       "                                                     Q2  \\\n",
       "6635       우리만 뒤처지는 것 같고. 그래도 열심히 살다 보면 우리도 집을 살 수 있겠지?   \n",
       "6636  나도 결혼했지만 아이도 생기지 않고 그 정도로 행복하지 않거든. 친구보다 못사는 것...   \n",
       "6637                              요새 집값이 너무 올라서 한숨만 나와.   \n",
       "6638                  맞아. 그 친구와 비교하게 되니 자존감이 낮아지는 기분이야.   \n",
       "6639                     맞아. 하지만 그렇다고 아무나하고 결혼할 수도 없잖아.   \n",
       "\n",
       "                                                     A2 Q3 A3  \n",
       "6635  우리 부부만 뒤처지는 것 같아 속상하지만 열심히 살다 보면 집을 살 수 있다고 믿으...        \n",
       "6636   친구분과 비교하게 되어 기분이 좋지 않으셨군요. 어떻게 하면 기분이 풀릴 수 있을까요?        \n",
       "6637                                 집값이 올라 한숨만 나오시는군요.        \n",
       "6638                                   비교로 자존감이 낮아지는군요.        \n",
       "6639                     이럴 때 기분을 나아지게 해 줄 만한 방법이 있을까요?        "
      ]
     },
     "execution_count": 10,
     "metadata": {},
     "output_type": "execute_result"
    }
   ],
   "source": [
    "df_concat.tail()"
   ]
  },
  {
   "cell_type": "code",
   "execution_count": 11,
   "metadata": {
    "executionInfo": {
     "elapsed": 4,
     "status": "ok",
     "timestamp": 1678668483208,
     "user": {
      "displayName": "이엽",
      "userId": "04261185762232439637"
     },
     "user_tz": -540
    },
    "id": "Mseg8EkK344L"
   },
   "outputs": [],
   "source": [
    "# # 모든턴 사용\n",
    "# df_1 = df_concat[[\"Q1\",\"A1\"]]\n",
    "# df_2 = df_concat[[\"Q2\",\"A2\"]]\n",
    "# df_3 = df_concat[[\"Q3\",\"A3\"]]\n",
    "\n",
    "# df_1.columns = [\"Q1\", \"A1\"]\n",
    "# df_2.columns = [\"Q1\", \"A1\"]\n",
    "# df_3.columns = [\"Q1\", \"A1\"]\n",
    "\n",
    "# df = pd.DataFrame()\n",
    "# df = pd.concat([df,df_1])\n",
    "# df = pd.concat([df,df_2])\n",
    "# df = pd.concat([df,df_3])\n",
    "\n",
    "\n",
    "# df.reset_index(drop=True, inplace=True)\n",
    "# filt = df[\"A1\"].str.len() < 3\n",
    "# df.drop(index=df[filt].index, inplace=True)\n",
    "# print(df.shape)\n",
    "# df.sample(5)"
   ]
  },
  {
   "cell_type": "code",
   "execution_count": 12,
   "metadata": {
    "colab": {
     "base_uri": "https://localhost:8080/",
     "height": 432
    },
    "executionInfo": {
     "elapsed": 329,
     "status": "ok",
     "timestamp": 1678668483534,
     "user": {
      "displayName": "이엽",
      "userId": "04261185762232439637"
     },
     "user_tz": -540
    },
    "id": "piram-Yv5P8w",
    "outputId": "37d4d919-012e-4d98-ad61-81c0aab6ec4d"
   },
   "outputs": [
    {
     "name": "stdout",
     "output_type": "stream",
     "text": [
      "(58268, 2)\n"
     ]
    },
    {
     "data": {
      "text/html": [
       "<div>\n",
       "<style scoped>\n",
       "    .dataframe tbody tr th:only-of-type {\n",
       "        vertical-align: middle;\n",
       "    }\n",
       "\n",
       "    .dataframe tbody tr th {\n",
       "        vertical-align: top;\n",
       "    }\n",
       "\n",
       "    .dataframe thead th {\n",
       "        text-align: right;\n",
       "    }\n",
       "</style>\n",
       "<table border=\"1\" class=\"dataframe\">\n",
       "  <thead>\n",
       "    <tr style=\"text-align: right;\">\n",
       "      <th></th>\n",
       "      <th>Q1</th>\n",
       "      <th>A1</th>\n",
       "    </tr>\n",
       "  </thead>\n",
       "  <tbody>\n",
       "    <tr>\n",
       "      <th>16263</th>\n",
       "      <td>인기 많은 여자 친구가 언젠가 다른 사람에게 가버리는 건 아닌지 불안해.</td>\n",
       "      <td>여자 친구가 언젠가 다른 사람에게 가버리는 건 아닌지 불안하시군요.</td>\n",
       "    </tr>\n",
       "    <tr>\n",
       "      <th>1037</th>\n",
       "      <td>요즘은 자면서도 죽기만을 바라며 잠이 들어.</td>\n",
       "      <td>자다가 죽기만을 바라며 잠이 드시다니. 힘드시고 슬프시겠어요.</td>\n",
       "    </tr>\n",
       "    <tr>\n",
       "      <th>23448</th>\n",
       "      <td>좀 더 젊었을 때 저축을 해두지 않은 게 후회가 돼.</td>\n",
       "      <td>저축을 하지 못 한 게 후회되나 보군요.</td>\n",
       "    </tr>\n",
       "    <tr>\n",
       "      <th>35391</th>\n",
       "      <td>펀드매니저의 도움으로 자산을 안전하게 투자하였어. 그래서 마음이 편해졌어.</td>\n",
       "      <td>자산을 안전하게 투자해서 마음이 편해지셨군요.</td>\n",
       "    </tr>\n",
       "    <tr>\n",
       "      <th>41045</th>\n",
       "      <td>난 이제 아무것도 아니야 다들 날 무시하는 거 같아.</td>\n",
       "      <td>왜 그런 생각을 갑자기 하시는 거예요?</td>\n",
       "    </tr>\n",
       "    <tr>\n",
       "      <th>1237</th>\n",
       "      <td>내가 잘못한 것도 없는데 딸이 나랑 얘기하는 것조차 싫어해.</td>\n",
       "      <td>조금 더 자세히 얘기해주시겠어요?</td>\n",
       "    </tr>\n",
       "    <tr>\n",
       "      <th>29852</th>\n",
       "      <td>시험 공부좀 할껄 지금까지 너무 놀기만 했나봐.</td>\n",
       "      <td>시험 공부를 안 하셨나요? 조금 더 자세히 말씀해주세요.</td>\n",
       "    </tr>\n",
       "    <tr>\n",
       "      <th>13417</th>\n",
       "      <td>괴롭힘 당하는 친구가 도와달라고 했는데 나도 괴롭힘 당할까 봐 멈칫했어. 친구가 상...</td>\n",
       "      <td>주저하는 모습에 친구가 상처 받았을까 봐 걱정되는군요.</td>\n",
       "    </tr>\n",
       "  </tbody>\n",
       "</table>\n",
       "</div>"
      ],
      "text/plain": [
       "                                                      Q1  \\\n",
       "16263           인기 많은 여자 친구가 언젠가 다른 사람에게 가버리는 건 아닌지 불안해.   \n",
       "1037                            요즘은 자면서도 죽기만을 바라며 잠이 들어.   \n",
       "23448                      좀 더 젊었을 때 저축을 해두지 않은 게 후회가 돼.   \n",
       "35391          펀드매니저의 도움으로 자산을 안전하게 투자하였어. 그래서 마음이 편해졌어.   \n",
       "41045                      난 이제 아무것도 아니야 다들 날 무시하는 거 같아.   \n",
       "1237                   내가 잘못한 것도 없는데 딸이 나랑 얘기하는 것조차 싫어해.   \n",
       "29852                         시험 공부좀 할껄 지금까지 너무 놀기만 했나봐.   \n",
       "13417  괴롭힘 당하는 친구가 도와달라고 했는데 나도 괴롭힘 당할까 봐 멈칫했어. 친구가 상...   \n",
       "\n",
       "                                          A1  \n",
       "16263  여자 친구가 언젠가 다른 사람에게 가버리는 건 아닌지 불안하시군요.  \n",
       "1037      자다가 죽기만을 바라며 잠이 드시다니. 힘드시고 슬프시겠어요.  \n",
       "23448                 저축을 하지 못 한 게 후회되나 보군요.  \n",
       "35391              자산을 안전하게 투자해서 마음이 편해지셨군요.  \n",
       "41045                  왜 그런 생각을 갑자기 하시는 거예요?  \n",
       "1237                      조금 더 자세히 얘기해주시겠어요?  \n",
       "29852        시험 공부를 안 하셨나요? 조금 더 자세히 말씀해주세요.  \n",
       "13417         주저하는 모습에 친구가 상처 받았을까 봐 걱정되는군요.  "
      ]
     },
     "execution_count": 12,
     "metadata": {},
     "output_type": "execute_result"
    }
   ],
   "source": [
    "# 1턴만 사용\n",
    "df = df_concat[[\"Q1\",\"A1\"]].copy()\n",
    "print(df.shape)\n",
    "df.sample(8, random_state=RAND_SEED)"
   ]
  },
  {
   "cell_type": "code",
   "execution_count": 13,
   "metadata": {
    "colab": {
     "base_uri": "https://localhost:8080/",
     "height": 432
    },
    "executionInfo": {
     "elapsed": 15,
     "status": "ok",
     "timestamp": 1678668483535,
     "user": {
      "displayName": "이엽",
      "userId": "04261185762232439637"
     },
     "user_tz": -540
    },
    "id": "3VBBIZcytE-v",
    "outputId": "2e5c6930-f0a2-421d-af86-e372d071999b"
   },
   "outputs": [
    {
     "name": "stdout",
     "output_type": "stream",
     "text": [
      "(58268, 2)\n"
     ]
    },
    {
     "data": {
      "text/html": [
       "<div>\n",
       "<style scoped>\n",
       "    .dataframe tbody tr th:only-of-type {\n",
       "        vertical-align: middle;\n",
       "    }\n",
       "\n",
       "    .dataframe tbody tr th {\n",
       "        vertical-align: top;\n",
       "    }\n",
       "\n",
       "    .dataframe thead th {\n",
       "        text-align: right;\n",
       "    }\n",
       "</style>\n",
       "<table border=\"1\" class=\"dataframe\">\n",
       "  <thead>\n",
       "    <tr style=\"text-align: right;\">\n",
       "      <th></th>\n",
       "      <th>Q1</th>\n",
       "      <th>A1</th>\n",
       "    </tr>\n",
       "  </thead>\n",
       "  <tbody>\n",
       "    <tr>\n",
       "      <th>16263</th>\n",
       "      <td>인기 많은 여자 친구가 언젠가 다른 사람에게 가버리는 건 아닌지 불안해.</td>\n",
       "      <td>여자 친구가 언젠가 다른 사람에게 가버리는 건 아닌지 불안하시군요.</td>\n",
       "    </tr>\n",
       "    <tr>\n",
       "      <th>1037</th>\n",
       "      <td>요즘은 자면서도 죽기만을 바라며 잠이 들어.</td>\n",
       "      <td>자다가 죽기만을 바라며 잠이 드시다니. 힘드시고 슬프시겠어요.</td>\n",
       "    </tr>\n",
       "    <tr>\n",
       "      <th>23448</th>\n",
       "      <td>좀 더 젊었을 때 저축을 해두지 않은 게 후회가 돼.</td>\n",
       "      <td>저축을 하지 못 한 게 후회되나 보군요.</td>\n",
       "    </tr>\n",
       "    <tr>\n",
       "      <th>35391</th>\n",
       "      <td>펀드매니저의 도움으로 자산을 안전하게 투자하였어. 그래서 마음이 편해졌어.</td>\n",
       "      <td>자산을 안전하게 투자해서 마음이 편해지셨군요.</td>\n",
       "    </tr>\n",
       "    <tr>\n",
       "      <th>41045</th>\n",
       "      <td>난 이제 아무것도 아니야 다들 날 무시하는 거 같아.</td>\n",
       "      <td>왜 그런 생각을 갑자기 하시는 거예요?</td>\n",
       "    </tr>\n",
       "    <tr>\n",
       "      <th>1237</th>\n",
       "      <td>내가 잘못한 것도 없는데 딸이 나랑 얘기하는 것조차 싫어해.</td>\n",
       "      <td>조금 더 자세히 얘기해주시겠어요?</td>\n",
       "    </tr>\n",
       "    <tr>\n",
       "      <th>29852</th>\n",
       "      <td>시험 공부좀 할껄 지금까지 너무 놀기만 했나봐.</td>\n",
       "      <td>시험 공부를 안 하셨나요? 조금 더 자세히 말씀해주세요.</td>\n",
       "    </tr>\n",
       "    <tr>\n",
       "      <th>13417</th>\n",
       "      <td>괴롭힘 당하는 친구가 도와달라고 했는데 나도 괴롭힘 당할까 봐 멈칫했어. 친구가 상...</td>\n",
       "      <td>주저하는 모습에 친구가 상처 받았을까 봐 걱정되는군요.</td>\n",
       "    </tr>\n",
       "  </tbody>\n",
       "</table>\n",
       "</div>"
      ],
      "text/plain": [
       "                                                      Q1  \\\n",
       "16263           인기 많은 여자 친구가 언젠가 다른 사람에게 가버리는 건 아닌지 불안해.   \n",
       "1037                            요즘은 자면서도 죽기만을 바라며 잠이 들어.   \n",
       "23448                      좀 더 젊었을 때 저축을 해두지 않은 게 후회가 돼.   \n",
       "35391          펀드매니저의 도움으로 자산을 안전하게 투자하였어. 그래서 마음이 편해졌어.   \n",
       "41045                      난 이제 아무것도 아니야 다들 날 무시하는 거 같아.   \n",
       "1237                   내가 잘못한 것도 없는데 딸이 나랑 얘기하는 것조차 싫어해.   \n",
       "29852                         시험 공부좀 할껄 지금까지 너무 놀기만 했나봐.   \n",
       "13417  괴롭힘 당하는 친구가 도와달라고 했는데 나도 괴롭힘 당할까 봐 멈칫했어. 친구가 상...   \n",
       "\n",
       "                                          A1  \n",
       "16263  여자 친구가 언젠가 다른 사람에게 가버리는 건 아닌지 불안하시군요.  \n",
       "1037      자다가 죽기만을 바라며 잠이 드시다니. 힘드시고 슬프시겠어요.  \n",
       "23448                 저축을 하지 못 한 게 후회되나 보군요.  \n",
       "35391              자산을 안전하게 투자해서 마음이 편해지셨군요.  \n",
       "41045                  왜 그런 생각을 갑자기 하시는 거예요?  \n",
       "1237                      조금 더 자세히 얘기해주시겠어요?  \n",
       "29852        시험 공부를 안 하셨나요? 조금 더 자세히 말씀해주세요.  \n",
       "13417         주저하는 모습에 친구가 상처 받았을까 봐 걱정되는군요.  "
      ]
     },
     "execution_count": 13,
     "metadata": {},
     "output_type": "execute_result"
    }
   ],
   "source": [
    "NUM_TEXT_DATA       = int(df.shape[0] * NUM_TEXT_DATA)      # ✅ 사용 할 데이터 비율\n",
    "\n",
    "qna_data = df.sample(NUM_TEXT_DATA, random_state=RAND_SEED).copy()\n",
    "print(qna_data.shape)\n",
    "qna_data.head(8)"
   ]
  },
  {
   "cell_type": "markdown",
   "metadata": {
    "id": "rFI0JbXbPF2m"
   },
   "source": [
    "#### 데이터 분할"
   ]
  },
  {
   "cell_type": "code",
   "execution_count": 14,
   "metadata": {
    "colab": {
     "base_uri": "https://localhost:8080/"
    },
    "executionInfo": {
     "elapsed": 13,
     "status": "ok",
     "timestamp": 1678668483535,
     "user": {
      "displayName": "이엽",
      "userId": "04261185762232439637"
     },
     "user_tz": -540
    },
    "id": "cM2BTo4ft1aT",
    "outputId": "9ceafd67-f0df-4bb9-c889-8197719ff22f"
   },
   "outputs": [
    {
     "name": "stdout",
     "output_type": "stream",
     "text": [
      "전체 데이터셋 개수: 58268\n",
      "학습 데이터셋 개수: 46615\n",
      "검증 데이터셋 개수: 11653\n"
     ]
    }
   ],
   "source": [
    "qna_data = qna_data.sample(frac=1, random_state=RAND_SEED).reset_index(drop=True)   # 데이터 섞기\n",
    "num_val_samples = int(0.2 * len(qna_data))                                          # 총 데이터의 20%\n",
    "num_train_samples = len(qna_data) - num_val_samples                                 # train, val 비율 = 8:2\n",
    "train_data = qna_data[:num_train_samples]\n",
    "val_data = qna_data[num_train_samples :]\n",
    "\n",
    "print(f\"전체 데이터셋 개수: {len(qna_data)}\")\n",
    "print(f\"학습 데이터셋 개수: {len(train_data)}\")\n",
    "print(f\"검증 데이터셋 개수: {len(val_data)}\")"
   ]
  },
  {
   "cell_type": "markdown",
   "metadata": {
    "id": "yyjzC5vBXlOg"
   },
   "source": [
    "#### \"이연준 챗봇\" 학습 데이터"
   ]
  },
  {
   "cell_type": "code",
   "execution_count": 15,
   "metadata": {
    "executionInfo": {
     "elapsed": 11,
     "status": "ok",
     "timestamp": 1678668483535,
     "user": {
      "displayName": "이엽",
      "userId": "04261185762232439637"
     },
     "user_tz": -540
    },
    "id": "V5Rw52_a344M"
   },
   "outputs": [],
   "source": [
    "data = {\"Q1\" : [\n",
    "                \"너는 누구니?\",\n",
    "                \"챗봇의 이름이 뭐야?\",\n",
    "                \"당신은 누구십니까?\",\n",
    "                \"당신의 이름은 무엇입니까?\",\n",
    "                \"챗봇 이름이 뭐야?\",\n",
    "                \"너는 뭐야?\",\n",
    "                \"너는 자신을 무엇이라고 생각하니?\",\n",
    "                \"너는 이름이 무엇이니?\",\n",
    "                \"당신은 누군가요?\",\n",
    "                \"너는 누구야?\"\n",
    "                ],\n",
    "        \"A1\" : [\n",
    "                \"저는 이연준님이 만든 챗봇이에요\",\n",
    "                \"저의 이름은 이연준의 챗봇 입니다.\",\n",
    "                \"저는 이연준이 만든 챗봇입니다\",\n",
    "                \"저의 이름은 이연준의 챗봇 이에요.\",\n",
    "                \"저는 챗봇이에요, 이연준이 저를 만들었어요.\",\n",
    "                \"저는 이연준 챗봇입니다.\",\n",
    "                \"저는 이연준이 만든 챗봇이라고 생각해요\",\n",
    "                \"저는 이연준님의 챗봇 이라고 합니다.\",\n",
    "                \"저는 챗봇입니다.\",\n",
    "                \"저는 이연준이 만든 챗봇입니다.\"\n",
    "                ],\n",
    "        }\n",
    "\n",
    "test_df = pd.DataFrame(data)\n",
    "train_data = pd.concat([train_data,test_df])"
   ]
  },
  {
   "cell_type": "code",
   "execution_count": 16,
   "metadata": {
    "colab": {
     "base_uri": "https://localhost:8080/"
    },
    "executionInfo": {
     "elapsed": 11,
     "status": "ok",
     "timestamp": 1678668483535,
     "user": {
      "displayName": "이엽",
      "userId": "04261185762232439637"
     },
     "user_tz": -540
    },
    "id": "qlUyGrt4tE-v",
    "outputId": "cc6c6a2c-cab5-449d-8c11-419c4c4e29d6"
   },
   "outputs": [
    {
     "name": "stdout",
     "output_type": "stream",
     "text": [
      "46625, 46625, 11653, 11653\n"
     ]
    }
   ],
   "source": [
    "q_train, a_train = list(train_data[\"Q1\"]), list(train_data[\"A1\"])\n",
    "q_val, a_val = list(val_data[\"Q1\"]), list(val_data[\"A1\"])\n",
    "\n",
    "q_train = [re.sub(r\"([?.!,])\", r\" \\1 \", x).strip() for x in q_train]\n",
    "a_train = [re.sub(r\"([?.!,])\", r\" \\1 \", x).strip() for x in a_train]\n",
    "q_val = [re.sub(r\"([?.!,])\", r\" \\1 \", x).strip() for x in q_val]\n",
    "a_val = [re.sub(r\"([?.!,])\", r\" \\1 \", x).strip() for x in a_val]\n",
    "\n",
    "print(f\"{len(q_train)}, {len(a_train)}, {len(q_val)}, {len(a_val)}\")"
   ]
  },
  {
   "cell_type": "code",
   "execution_count": 17,
   "metadata": {
    "colab": {
     "base_uri": "https://localhost:8080/"
    },
    "executionInfo": {
     "elapsed": 7,
     "status": "ok",
     "timestamp": 1678668483535,
     "user": {
      "displayName": "이엽",
      "userId": "04261185762232439637"
     },
     "user_tz": -540
    },
    "id": "G9XiyOFPZenC",
    "outputId": "5d7ae9c9-9826-4d62-ef46-564999f5d1fa"
   },
   "outputs": [
    {
     "name": "stdout",
     "output_type": "stream",
     "text": [
      "--------------------------------------------------\n",
      "질문 : 엄마가 자꾸 결혼하라고 닦달이야 .\n",
      "답변 : 엄마가 자꾸 결혼하라고 하셔서 힘드시군요 .\n",
      "--------------------------------------------------\n",
      "질문 : 죽고 싶다 .  눈이 안 보인다 .\n",
      "답변 : 무슨 일이신지요 ?\n",
      "--------------------------------------------------\n",
      "질문 : 학교 선생님이 내 성적이 올라서 더 나은 대학에 다니겠다고 했어 .\n",
      "답변 : 마음이 좋으셨겠네요 .\n",
      "--------------------------------------------------\n",
      "질문 : 새 직장에 이번에 취업했어 .  그런데 내 적성에 맞을지 걱정이야 .\n",
      "답변 : 새 직장이 맞지 않을 까봐 걱정이신가 봐요 .\n",
      "--------------------------------------------------\n",
      "질문 : 어릴 때부터 큰 손주를 키우다시피 했는데 요즘 큰 손주가 나를 보면 데면데면하네 .\n",
      "답변 : 큰 손주가 데면데면하군요 .  많이 서운하시겠어요 .\n"
     ]
    }
   ],
   "source": [
    "for i in range(5):\n",
    "    print(f\"{'-'*50}\\n질문 : {q_train[i]}\\n답변 : {a_train[i]}\")"
   ]
  },
  {
   "cell_type": "markdown",
   "metadata": {
    "id": "C3UFTGCdPMv4"
   },
   "source": [
    "#### 벡터화"
   ]
  },
  {
   "cell_type": "code",
   "execution_count": 18,
   "metadata": {
    "colab": {
     "base_uri": "https://localhost:8080/"
    },
    "executionInfo": {
     "elapsed": 18825,
     "status": "ok",
     "timestamp": 1678668502355,
     "user": {
      "displayName": "이엽",
      "userId": "04261185762232439637"
     },
     "user_tz": -540
    },
    "id": "yPGwz2no_zpM",
    "outputId": "e207b58d-d87f-4c22-a31a-19d9a172f093"
   },
   "outputs": [
    {
     "name": "stdout",
     "output_type": "stream",
     "text": [
      "CPU times: user 37.4 s, sys: 84.6 ms, total: 37.4 s\n",
      "Wall time: 37.5 s\n"
     ]
    }
   ],
   "source": [
    "%%time\n",
    "# 서브워드텍스트인코더를 사용하여 질문과 답변을 모두 포함한 단어 집합(Vocabulary) 생성\n",
    "tokenizer = tfds.deprecated.text.SubwordTextEncoder.build_from_corpus(\n",
    "    q_train + a_train + q_val + a_val\n",
    "    , target_vocab_size=10000)\n",
    "\n",
    "# 시작 토큰과 종료 토큰에 대한 정수 부여.\n",
    "START_TOKEN, END_TOKEN = [tokenizer.vocab_size], [tokenizer.vocab_size + 1]\n",
    "\n",
    "# 시작 토큰과 종료 토큰을 고려하여 단어 집합의 크기를 + 2\n",
    "VOCAB_SIZE = tokenizer.vocab_size + 2 # ✅ 단어집합 크기"
   ]
  },
  {
   "cell_type": "code",
   "execution_count": 19,
   "metadata": {
    "colab": {
     "base_uri": "https://localhost:8080/"
    },
    "executionInfo": {
     "elapsed": 22,
     "status": "ok",
     "timestamp": 1678668502356,
     "user": {
      "displayName": "이엽",
      "userId": "04261185762232439637"
     },
     "user_tz": -540
    },
    "id": "OTniuqOEZDYm",
    "outputId": "9dfcfc3c-184f-46c7-f976-915402b2ce8f"
   },
   "outputs": [
    {
     "name": "stdout",
     "output_type": "stream",
     "text": [
      "시작 토큰 번호 : 9978\n",
      "종료 토큰 번호 : 9979\n",
      "단어 집합의 크기 : 9980\n"
     ]
    }
   ],
   "source": [
    "print('시작 토큰 번호 :',START_TOKEN[0])\n",
    "print('종료 토큰 번호 :',END_TOKEN[0])\n",
    "print('단어 집합의 크기 :',VOCAB_SIZE)"
   ]
  },
  {
   "cell_type": "code",
   "execution_count": 20,
   "metadata": {
    "colab": {
     "base_uri": "https://localhost:8080/"
    },
    "executionInfo": {
     "elapsed": 21,
     "status": "ok",
     "timestamp": 1678668502356,
     "user": {
      "displayName": "이엽",
      "userId": "04261185762232439637"
     },
     "user_tz": -540
    },
    "id": "XZot5zp9Vkhl",
    "outputId": "ec4e2129-b42b-489f-bfb1-c948bcc03878"
   },
   "outputs": [
    {
     "name": "stdout",
     "output_type": "stream",
     "text": [
      "Tokenized sample question: [169, 88, 5475, 7867, 8814, 201, 1]\n"
     ]
    }
   ],
   "source": [
    "print('Tokenized sample question: {}'.format(tokenizer.encode(q_train[0])))"
   ]
  },
  {
   "cell_type": "code",
   "execution_count": 21,
   "metadata": {
    "colab": {
     "base_uri": "https://localhost:8080/"
    },
    "executionInfo": {
     "elapsed": 18,
     "status": "ok",
     "timestamp": 1678668502356,
     "user": {
      "displayName": "이엽",
      "userId": "04261185762232439637"
     },
     "user_tz": -540
    },
    "id": "DPrczDY7Vo6d",
    "outputId": "e4ec6f92-4e3e-4bd2-82f5-66071523c29c"
   },
   "outputs": [
    {
     "name": "stdout",
     "output_type": "stream",
     "text": [
      "               기존 문장 : 오늘 학교에서 선생님께서 빨리 달려와 주셔서 그 애들이 날 못 때렸어 .\n",
      "   정수 인코딩 후의 문장 : [50, 228, 1826, 442, 4392, 243, 1303, 118, 486, 114, 33, 4119, 1]\n",
      "               기존 문장 : 선생님께서 빨리 와 주셔서 정말 다행이에요 .  다치신 데는 없나요 ?\n",
      "   정수 인코딩 후의 문장 : [1826, 442, 243, 1303, 19, 1164, 2, 2486, 209, 650, 14, 3645, 3]\n"
     ]
    }
   ],
   "source": [
    "# 서브워드텍스트인코더 토크나이저의 .encode()와 decode() 테스트해보기\n",
    "\n",
    "# 임의의 입력 문장을 sample_string에 저장\n",
    "sample_num = 7\n",
    "sample_q = q_train[sample_num]\n",
    "sample_a = a_train[sample_num]\n",
    "\n",
    "\n",
    "# encode() : 텍스트 시퀀스 --> 정수 시퀀스\n",
    "tokenized_q = tokenizer.encode(sample_q)\n",
    "tokenized_a = tokenizer.encode(sample_a)\n",
    "\n",
    "# decode() : 정수 시퀀스 --> 텍스트 시퀀스\n",
    "original_q = tokenizer.decode(tokenized_q)\n",
    "original_a = tokenizer.decode(tokenized_a)\n",
    "\n",
    "print (f'               기존 문장 : {original_q}')\n",
    "print (f'   정수 인코딩 후의 문장 : {tokenized_q}')\n",
    "print (f'               기존 문장 : {original_a}')\n",
    "print (f'   정수 인코딩 후의 문장 : {tokenized_a}')"
   ]
  },
  {
   "cell_type": "code",
   "execution_count": 22,
   "metadata": {
    "colab": {
     "base_uri": "https://localhost:8080/",
     "height": 708
    },
    "executionInfo": {
     "elapsed": 18,
     "status": "ok",
     "timestamp": 1678668502357,
     "user": {
      "displayName": "이엽",
      "userId": "04261185762232439637"
     },
     "user_tz": -540
    },
    "id": "TlHukQsKqCfO",
    "outputId": "7c8177cc-bea7-473e-b96f-5a999dddbcc5"
   },
   "outputs": [
    {
     "data": {
      "text/html": [
       "<div>\n",
       "<style scoped>\n",
       "    .dataframe tbody tr th:only-of-type {\n",
       "        vertical-align: middle;\n",
       "    }\n",
       "\n",
       "    .dataframe tbody tr th {\n",
       "        vertical-align: top;\n",
       "    }\n",
       "\n",
       "    .dataframe thead th {\n",
       "        text-align: right;\n",
       "    }\n",
       "</style>\n",
       "<table border=\"1\" class=\"dataframe\">\n",
       "  <thead>\n",
       "    <tr style=\"text-align: right;\">\n",
       "      <th></th>\n",
       "      <th>Token Q</th>\n",
       "      <th>Vector Q</th>\n",
       "      <th>Token A</th>\n",
       "      <th>Vector A</th>\n",
       "    </tr>\n",
       "  </thead>\n",
       "  <tbody>\n",
       "    <tr>\n",
       "      <th>0</th>\n",
       "      <td>오늘</td>\n",
       "      <td>50</td>\n",
       "      <td>선생님께서</td>\n",
       "      <td>1826</td>\n",
       "    </tr>\n",
       "    <tr>\n",
       "      <th>1</th>\n",
       "      <td>학교에서</td>\n",
       "      <td>228</td>\n",
       "      <td>빨리</td>\n",
       "      <td>442</td>\n",
       "    </tr>\n",
       "    <tr>\n",
       "      <th>2</th>\n",
       "      <td>선생님께서</td>\n",
       "      <td>1826</td>\n",
       "      <td>와</td>\n",
       "      <td>243</td>\n",
       "    </tr>\n",
       "    <tr>\n",
       "      <th>3</th>\n",
       "      <td>빨리</td>\n",
       "      <td>442</td>\n",
       "      <td>주셔서</td>\n",
       "      <td>1303</td>\n",
       "    </tr>\n",
       "    <tr>\n",
       "      <th>4</th>\n",
       "      <td>달려</td>\n",
       "      <td>4392</td>\n",
       "      <td>정말</td>\n",
       "      <td>19</td>\n",
       "    </tr>\n",
       "    <tr>\n",
       "      <th>5</th>\n",
       "      <td>와</td>\n",
       "      <td>243</td>\n",
       "      <td>다행이에요</td>\n",
       "      <td>1164</td>\n",
       "    </tr>\n",
       "    <tr>\n",
       "      <th>6</th>\n",
       "      <td>주셔서</td>\n",
       "      <td>1303</td>\n",
       "      <td>.</td>\n",
       "      <td>2</td>\n",
       "    </tr>\n",
       "    <tr>\n",
       "      <th>7</th>\n",
       "      <td>그</td>\n",
       "      <td>118</td>\n",
       "      <td>다치</td>\n",
       "      <td>2486</td>\n",
       "    </tr>\n",
       "    <tr>\n",
       "      <th>8</th>\n",
       "      <td>애들이</td>\n",
       "      <td>486</td>\n",
       "      <td>신</td>\n",
       "      <td>209</td>\n",
       "    </tr>\n",
       "    <tr>\n",
       "      <th>9</th>\n",
       "      <td>날</td>\n",
       "      <td>114</td>\n",
       "      <td>데</td>\n",
       "      <td>650</td>\n",
       "    </tr>\n",
       "    <tr>\n",
       "      <th>10</th>\n",
       "      <td>못</td>\n",
       "      <td>33</td>\n",
       "      <td>는</td>\n",
       "      <td>14</td>\n",
       "    </tr>\n",
       "    <tr>\n",
       "      <th>11</th>\n",
       "      <td>때렸어</td>\n",
       "      <td>4119</td>\n",
       "      <td>없나요</td>\n",
       "      <td>3645</td>\n",
       "    </tr>\n",
       "    <tr>\n",
       "      <th>12</th>\n",
       "      <td>.</td>\n",
       "      <td>1</td>\n",
       "      <td>?</td>\n",
       "      <td>3</td>\n",
       "    </tr>\n",
       "  </tbody>\n",
       "</table>\n",
       "</div>"
      ],
      "text/plain": [
       "   Token Q  Vector Q Token A  Vector A\n",
       "0      오늘         50  선생님께서       1826\n",
       "1    학교에서        228     빨리        442\n",
       "2   선생님께서       1826      와        243\n",
       "3      빨리        442    주셔서       1303\n",
       "4       달려      4392     정말         19\n",
       "5       와        243   다행이에요      1164\n",
       "6     주셔서       1303     .           2\n",
       "7       그        118      다치      2486\n",
       "8     애들이        486      신        209\n",
       "9       날        114       데       650\n",
       "10      못         33      는         14\n",
       "11     때렸어      4119     없나요      3645\n",
       "12       .         1       ?         3"
      ]
     },
     "execution_count": 22,
     "metadata": {},
     "output_type": "execute_result"
    }
   ],
   "source": [
    "token_q = [tokenizer.decode([x]) for x in tokenized_q]\n",
    "token_a = [tokenizer.decode([x]) for x in tokenized_a]\n",
    "token_vector_q = pd.DataFrame({\"Token Q\":token_q,\"Vector Q\":tokenized_q})\n",
    "token_vector_a = pd.DataFrame({\"Token A\":token_a,\"Vector A\":tokenized_a})\n",
    "token_vector = pd.concat([token_vector_q, token_vector_a], axis=1)\n",
    "token_vector"
   ]
  },
  {
   "cell_type": "code",
   "execution_count": 23,
   "metadata": {
    "executionInfo": {
     "elapsed": 17,
     "status": "ok",
     "timestamp": 1678668502357,
     "user": {
      "displayName": "이엽",
      "userId": "04261185762232439637"
     },
     "user_tz": -540
    },
    "id": "I1cmaIE0VwE9"
   },
   "outputs": [],
   "source": [
    "def prepare_batch(q_list, a_list):\n",
    "    \n",
    "    with tqdm(total=len(q_list)) as pbar:\n",
    "\n",
    "        q_toked, a_toked_input, a_toked_label = [], [], []\n",
    "        for (q_text, a_text) in zip(q_list, a_list):\n",
    "            # encode(토큰화 + 정수 인코딩), 시작 토큰과 종료 토큰 추가\n",
    "            q_input = START_TOKEN + tokenizer.encode(q_text) + END_TOKEN\n",
    "            a_input = START_TOKEN + tokenizer.encode(a_text)\n",
    "            a_label = tokenizer.encode(a_text) + END_TOKEN\n",
    "\n",
    "            q_toked.append(q_input)\n",
    "            a_toked_input.append(a_input)\n",
    "            a_toked_label.append(a_label)\n",
    "            \n",
    "            pbar.update()\n",
    "\n",
    "        # # 패딩\n",
    "        q_toked = tf.keras.preprocessing.sequence.pad_sequences(\n",
    "                        q_toked, maxlen=MAX_LENGTH, padding='post')\n",
    "        a_toked_input = tf.keras.preprocessing.sequence.pad_sequences(\n",
    "                        a_toked_input, maxlen=MAX_LENGTH, padding='post')\n",
    "        a_toked_label = tf.keras.preprocessing.sequence.pad_sequences(\n",
    "                        a_toked_label, maxlen=MAX_LENGTH, padding='post')\n",
    "\n",
    "    return q_toked, a_toked_input, a_toked_label"
   ]
  },
  {
   "cell_type": "code",
   "execution_count": 24,
   "metadata": {
    "colab": {
     "base_uri": "https://localhost:8080/"
    },
    "executionInfo": {
     "elapsed": 655,
     "status": "ok",
     "timestamp": 1678668502996,
     "user": {
      "displayName": "이엽",
      "userId": "04261185762232439637"
     },
     "user_tz": -540
    },
    "id": "s7z4zCtEV2dt",
    "outputId": "d3a88cc2-f467-4d15-8ad6-eb610d2da57c"
   },
   "outputs": [
    {
     "name": "stderr",
     "output_type": "stream",
     "text": [
      "100%|██████████| 46625/46625 [00:03<00:00, 12919.57it/s]\n",
      "100%|██████████| 11653/11653 [00:00<00:00, 15786.20it/s]\n"
     ]
    }
   ],
   "source": [
    "q_toked_train, a_toked_input_train, a_toked_label_train = prepare_batch(q_train, a_train)\n",
    "q_toked_val, a_toked_input_val, a_toked_label_val = prepare_batch(q_val, a_val)"
   ]
  },
  {
   "cell_type": "code",
   "execution_count": 25,
   "metadata": {
    "colab": {
     "base_uri": "https://localhost:8080/"
    },
    "executionInfo": {
     "elapsed": 7,
     "status": "ok",
     "timestamp": 1678668502996,
     "user": {
      "displayName": "이엽",
      "userId": "04261185762232439637"
     },
     "user_tz": -540
    },
    "id": "Feb0OV0NWBW9",
    "outputId": "e0874a2a-a67c-4b5c-8dd3-48a0daac48cd"
   },
   "outputs": [
    {
     "name": "stdout",
     "output_type": "stream",
     "text": [
      "질문 데이터의 크기(shape) : (46625, 20)\n",
      "답변(input) 데이터의 크기(shape) : (46625, 20)\n",
      "답변(label) 데이터의 크기(shape) : (46625, 20)\n"
     ]
    }
   ],
   "source": [
    "print('질문 데이터의 크기(shape) :', q_toked_train.shape)\n",
    "print('답변(input) 데이터의 크기(shape) :', a_toked_input_train.shape)\n",
    "print('답변(label) 데이터의 크기(shape) :', a_toked_label_train.shape)"
   ]
  },
  {
   "cell_type": "markdown",
   "metadata": {
    "id": "xl132hGPNCjW"
   },
   "source": [
    "#### 데이터를 모델에 넣을 수 있도록 구성"
   ]
  },
  {
   "cell_type": "code",
   "execution_count": 26,
   "metadata": {
    "executionInfo": {
     "elapsed": 408,
     "status": "ok",
     "timestamp": 1678668503402,
     "user": {
      "displayName": "이엽",
      "userId": "04261185762232439637"
     },
     "user_tz": -540
    },
    "id": "dnmAZCCbETLn"
   },
   "outputs": [],
   "source": [
    "# Train Batch\n",
    "train_batches = tf.data.Dataset.from_tensor_slices(((q_toked_train, a_toked_input_train),a_toked_label_train))\n",
    "\n",
    "train_batches = train_batches.cache()\n",
    "train_batches = train_batches.shuffle(BUFFER_SIZE)\n",
    "train_batches = train_batches.batch(BATCH_SIZE)\n",
    "train_batches = train_batches.prefetch(tf.data.experimental.AUTOTUNE)\n",
    "\n",
    "# Validation Batch\n",
    "val_batches = tf.data.Dataset.from_tensor_slices(((q_toked_val, a_toked_input_val),a_toked_label_val))\n",
    "\n",
    "val_batches = val_batches.cache()\n",
    "val_batches = val_batches.shuffle(BUFFER_SIZE)\n",
    "val_batches = val_batches.batch(BATCH_SIZE)\n",
    "val_batches = val_batches.prefetch(tf.data.experimental.AUTOTUNE)"
   ]
  },
  {
   "cell_type": "code",
   "execution_count": 27,
   "metadata": {
    "colab": {
     "base_uri": "https://localhost:8080/"
    },
    "executionInfo": {
     "elapsed": 5,
     "status": "ok",
     "timestamp": 1678668503402,
     "user": {
      "displayName": "이엽",
      "userId": "04261185762232439637"
     },
     "user_tz": -540
    },
    "id": "T3UZgNoCE5mm",
    "outputId": "808d7334-0aa5-46bb-a748-5e8c347e9cd8"
   },
   "outputs": [
    {
     "name": "stdout",
     "output_type": "stream",
     "text": [
      "(64, 20)\n",
      "(64, 20)\n",
      "(64, 20)\n"
     ]
    }
   ],
   "source": [
    "for (pt, en), en_labels in train_batches.take(1):\n",
    "    pt = pt\n",
    "    en = en\n",
    "    en_labels = en_labels\n",
    "    break\n",
    "\n",
    "print(pt.shape)\n",
    "print(en.shape)\n",
    "print(en_labels.shape)"
   ]
  },
  {
   "cell_type": "markdown",
   "metadata": {
    "id": "CFLXGfjmPYZ-"
   },
   "source": [
    "### Define the Components\n",
    "- [Tensorflow : Translate text with Transformer Models](https://www.tensorflow.org/text/tutorials/transformer#the_embedding_and_positional_encoding_layer)"
   ]
  },
  {
   "cell_type": "markdown",
   "metadata": {
    "id": "rqnw_rIqPftF"
   },
   "source": [
    "#### The embedding and positional encoding layer"
   ]
  },
  {
   "cell_type": "code",
   "execution_count": 28,
   "metadata": {
    "executionInfo": {
     "elapsed": 5,
     "status": "ok",
     "timestamp": 1678668503403,
     "user": {
      "displayName": "이엽",
      "userId": "04261185762232439637"
     },
     "user_tz": -540
    },
    "id": "nSJi5bwYgTKz"
   },
   "outputs": [],
   "source": [
    "def positional_encoding(length, depth):\n",
    "  depth = depth/2\n",
    "\n",
    "  positions = np.arange(length)[:, np.newaxis]     # (seq, 1)\n",
    "  depths = np.arange(depth)[np.newaxis, :]/depth   # (1, depth)\n",
    "\n",
    "  angle_rates = 1 / (10000**depths)         # (1, depth)\n",
    "  angle_rads = positions * angle_rates      # (pos, depth)\n",
    "\n",
    "  pos_encoding = np.concatenate(\n",
    "      [np.sin(angle_rads), np.cos(angle_rads)],\n",
    "      axis=-1) \n",
    "\n",
    "  return tf.cast(pos_encoding, dtype=tf.float32)"
   ]
  },
  {
   "cell_type": "code",
   "execution_count": 29,
   "metadata": {
    "colab": {
     "base_uri": "https://localhost:8080/",
     "height": 301
    },
    "executionInfo": {
     "elapsed": 2551,
     "status": "ok",
     "timestamp": 1678668682215,
     "user": {
      "displayName": "이엽",
      "userId": "04261185762232439637"
     },
     "user_tz": -540
    },
    "id": "tCQOAgsmgf8O",
    "outputId": "edb09400-b95b-4f91-9ae9-097e9f97e5d4"
   },
   "outputs": [
    {
     "name": "stdout",
     "output_type": "stream",
     "text": [
      "(9980, 512)\n"
     ]
    },
    {
     "data": {
      "image/png": "[encoded data removed]",
      "text/plain": [
       "<Figure size 640x480 with 2 Axes>"
      ]
     },
     "metadata": {},
     "output_type": "display_data"
    }
   ],
   "source": [
    "pos_encoding = positional_encoding(length=VOCAB_SIZE, depth=D_MODEL)\n",
    "\n",
    "# Check the shape.\n",
    "print(pos_encoding.shape)\n",
    "\n",
    "# Plot the dimensions.\n",
    "plt.pcolormesh(pos_encoding.numpy().T, cmap='Spectral_r')\n",
    "plt.ylabel('Depth')\n",
    "plt.xlabel('Position')\n",
    "plt.colorbar()\n",
    "plt.show()"
   ]
  },
  {
   "cell_type": "code",
   "execution_count": 30,
   "metadata": {
    "colab": {
     "base_uri": "https://localhost:8080/",
     "height": 269
    },
    "executionInfo": {
     "elapsed": 471,
     "status": "ok",
     "timestamp": 1678668504786,
     "user": {
      "displayName": "이엽",
      "userId": "04261185762232439637"
     },
     "user_tz": -540
    },
    "id": "XT209HLeggEG",
    "outputId": "5f424a8a-a66c-414d-d490-382546e0971e"
   },
   "outputs": [
    {
     "data": {
      "image/png": "[encoded data removed]",
      "text/plain": [
       "<Figure size 640x480 with 2 Axes>"
      ]
     },
     "metadata": {},
     "output_type": "display_data"
    }
   ],
   "source": [
    "pos_encoding/=tf.norm(pos_encoding, axis=1, keepdims=True)\n",
    "p = pos_encoding[1000]\n",
    "dots = tf.einsum('pd,d -> p', pos_encoding, p)\n",
    "plt.subplot(2,1,1)\n",
    "plt.plot(dots)\n",
    "plt.ylim([0,1])\n",
    "plt.plot([950, 950, float('nan'), 1050, 1050],\n",
    "         [0,1,float('nan'),0,1], color='k', label='Zoom')\n",
    "plt.legend()\n",
    "plt.subplot(2,1,2)\n",
    "plt.plot(dots)\n",
    "plt.xlim([950, 1050])\n",
    "plt.ylim([0,1])\n",
    "plt.show()"
   ]
  },
  {
   "cell_type": "code",
   "execution_count": 31,
   "metadata": {
    "executionInfo": {
     "elapsed": 13,
     "status": "ok",
     "timestamp": 1678668504786,
     "user": {
      "displayName": "이엽",
      "userId": "04261185762232439637"
     },
     "user_tz": -540
    },
    "id": "vBAY9__eggEt"
   },
   "outputs": [],
   "source": [
    "class PositionalEmbedding(tf.keras.layers.Layer):\n",
    "  def __init__(self, vocab_size, d_model):\n",
    "    super().__init__()\n",
    "    self.d_model = d_model\n",
    "    self.embedding = tf.keras.layers.Embedding(vocab_size, d_model, mask_zero=True) \n",
    "    self.pos_encoding = positional_encoding(length=vocab_size, depth=d_model)\n",
    "\n",
    "  def compute_mask(self, *args, **kwargs):\n",
    "    return self.embedding.compute_mask(*args, **kwargs)\n",
    "\n",
    "  def call(self, x):\n",
    "    length = tf.shape(x)[1]\n",
    "    x = self.embedding(x)\n",
    "    # This factor sets the relative scale of the embedding and positonal_encoding.\n",
    "    x *= tf.math.sqrt(tf.cast(self.d_model, tf.float32))\n",
    "    x = x + self.pos_encoding[tf.newaxis, :length, :]\n",
    "    return x"
   ]
  },
  {
   "cell_type": "code",
   "execution_count": 32,
   "metadata": {
    "colab": {
     "base_uri": "https://localhost:8080/"
    },
    "executionInfo": {
     "elapsed": 14,
     "status": "ok",
     "timestamp": 1678668504787,
     "user": {
      "displayName": "이엽",
      "userId": "04261185762232439637"
     },
     "user_tz": -540
    },
    "id": "41EJnGVwggFf",
    "outputId": "d0c4588b-678a-47e6-85aa-7a607f1bb38e"
   },
   "outputs": [
    {
     "data": {
      "text/plain": [
       "<tf.Tensor: shape=(20,), dtype=bool, numpy=\n",
       "array([ True,  True,  True,  True,  True,  True,  True,  True,  True,\n",
       "        True,  True, False, False, False, False, False, False, False,\n",
       "       False, False])>"
      ]
     },
     "execution_count": 32,
     "metadata": {},
     "output_type": "execute_result"
    }
   ],
   "source": [
    "embed_pt = PositionalEmbedding(vocab_size=VOCAB_SIZE, d_model=D_MODEL)\n",
    "embed_en = PositionalEmbedding(vocab_size=VOCAB_SIZE, d_model=D_MODEL)\n",
    "\n",
    "pt_emb = embed_pt(pt)\n",
    "en_emb = embed_en(en)\n",
    "en_emb._keras_mask[0]"
   ]
  },
  {
   "cell_type": "markdown",
   "metadata": {
    "id": "xbpeGe2jP0-e"
   },
   "source": [
    "#### The base attention layer"
   ]
  },
  {
   "cell_type": "code",
   "execution_count": 33,
   "metadata": {
    "executionInfo": {
     "elapsed": 10,
     "status": "ok",
     "timestamp": 1678668504787,
     "user": {
      "displayName": "이엽",
      "userId": "04261185762232439637"
     },
     "user_tz": -540
    },
    "id": "x5mbgGVXggGU"
   },
   "outputs": [],
   "source": [
    "class BaseAttention(tf.keras.layers.Layer):\n",
    "  def __init__(self, **kwargs):\n",
    "    super().__init__()\n",
    "    self.mha = tf.keras.layers.MultiHeadAttention(**kwargs)\n",
    "    self.layernorm = tf.keras.layers.LayerNormalization()\n",
    "    self.add = tf.keras.layers.Add()"
   ]
  },
  {
   "cell_type": "markdown",
   "metadata": {
    "id": "8z3WwinI34PR"
   },
   "source": [
    "#### The cross attention layer"
   ]
  },
  {
   "cell_type": "code",
   "execution_count": 34,
   "metadata": {
    "executionInfo": {
     "elapsed": 9,
     "status": "ok",
     "timestamp": 1678668504787,
     "user": {
      "displayName": "이엽",
      "userId": "04261185762232439637"
     },
     "user_tz": -540
    },
    "id": "Jfd4BiBMggG-"
   },
   "outputs": [],
   "source": [
    "class CrossAttention(BaseAttention):\n",
    "  def call(self, x, context):\n",
    "    attn_output, attn_scores = self.mha(\n",
    "        query=x,\n",
    "        key=context,\n",
    "        value=context,\n",
    "        return_attention_scores=True)\n",
    "\n",
    "    # Cache the attention scores for plotting later.\n",
    "    self.last_attn_scores = attn_scores\n",
    "\n",
    "    x = self.add([x, attn_output])\n",
    "    x = self.layernorm(x)\n",
    "\n",
    "    return x"
   ]
  },
  {
   "cell_type": "code",
   "execution_count": 35,
   "metadata": {
    "colab": {
     "base_uri": "https://localhost:8080/"
    },
    "executionInfo": {
     "elapsed": 9,
     "status": "ok",
     "timestamp": 1678668504787,
     "user": {
      "displayName": "이엽",
      "userId": "04261185762232439637"
     },
     "user_tz": -540
    },
    "id": "S_E_6yFZksfK",
    "outputId": "d37e2068-ff36-4941-9815-51bf8bd72170"
   },
   "outputs": [
    {
     "name": "stdout",
     "output_type": "stream",
     "text": [
      "(64, 20, 512)\n",
      "(64, 20, 512)\n",
      "(64, 20, 512)\n"
     ]
    }
   ],
   "source": [
    "sample_ca = CrossAttention(num_heads=NUM_HEADS, key_dim=D_MODEL)\n",
    "\n",
    "print(pt_emb.shape)\n",
    "print(en_emb.shape)\n",
    "print(sample_ca(en_emb, pt_emb).shape)"
   ]
  },
  {
   "cell_type": "markdown",
   "metadata": {
    "id": "PIh7RwfY3_8R"
   },
   "source": [
    "#### The global self attention layer"
   ]
  },
  {
   "cell_type": "code",
   "execution_count": 36,
   "metadata": {
    "executionInfo": {
     "elapsed": 6,
     "status": "ok",
     "timestamp": 1678668504787,
     "user": {
      "displayName": "이엽",
      "userId": "04261185762232439637"
     },
     "user_tz": -540
    },
    "id": "pf3VFd-8ggHu"
   },
   "outputs": [],
   "source": [
    "class GlobalSelfAttention(BaseAttention):\n",
    "  def call(self, x):\n",
    "    attn_output = self.mha(\n",
    "        query=x,\n",
    "        value=x,\n",
    "        key=x)\n",
    "    x = self.add([x, attn_output])\n",
    "    x = self.layernorm(x)\n",
    "    return x"
   ]
  },
  {
   "cell_type": "code",
   "execution_count": 37,
   "metadata": {
    "colab": {
     "base_uri": "https://localhost:8080/"
    },
    "executionInfo": {
     "elapsed": 6,
     "status": "ok",
     "timestamp": 1678668504787,
     "user": {
      "displayName": "이엽",
      "userId": "04261185762232439637"
     },
     "user_tz": -540
    },
    "id": "wZqY2VzakxuD",
    "outputId": "d97f6253-62e8-4adc-c82e-279ff045f3df"
   },
   "outputs": [
    {
     "name": "stdout",
     "output_type": "stream",
     "text": [
      "(64, 20, 512)\n",
      "(64, 20, 512)\n"
     ]
    }
   ],
   "source": [
    "sample_gsa = GlobalSelfAttention(num_heads=NUM_HEADS, key_dim=D_MODEL)\n",
    "\n",
    "print(pt_emb.shape)\n",
    "print(sample_gsa(pt_emb).shape)"
   ]
  },
  {
   "cell_type": "markdown",
   "metadata": {
    "id": "TxyV5qKw4FCh"
   },
   "source": [
    "#### The causal self attention layer"
   ]
  },
  {
   "cell_type": "code",
   "execution_count": 38,
   "metadata": {
    "executionInfo": {
     "elapsed": 5,
     "status": "ok",
     "timestamp": 1678668504788,
     "user": {
      "displayName": "이엽",
      "userId": "04261185762232439637"
     },
     "user_tz": -540
    },
    "id": "ikFvQB8pggIc"
   },
   "outputs": [],
   "source": [
    "class CausalSelfAttention(BaseAttention):\n",
    "  def call(self, x):\n",
    "    attn_output = self.mha(\n",
    "        query=x,\n",
    "        value=x,\n",
    "        key=x,\n",
    "        use_causal_mask = True)\n",
    "    x = self.add([x, attn_output])\n",
    "    x = self.layernorm(x)\n",
    "    return x"
   ]
  },
  {
   "cell_type": "code",
   "execution_count": 39,
   "metadata": {
    "colab": {
     "base_uri": "https://localhost:8080/"
    },
    "executionInfo": {
     "elapsed": 295,
     "status": "ok",
     "timestamp": 1678668505078,
     "user": {
      "displayName": "이엽",
      "userId": "04261185762232439637"
     },
     "user_tz": -540
    },
    "id": "WYr6xbZPk5Gx",
    "outputId": "5634c35a-f946-4486-856e-dad9a72b1e8d"
   },
   "outputs": [
    {
     "name": "stdout",
     "output_type": "stream",
     "text": [
      "(64, 20, 512)\n",
      "(64, 20, 512)\n"
     ]
    }
   ],
   "source": [
    "sample_csa = CausalSelfAttention(num_heads=NUM_HEADS, key_dim=D_MODEL)\n",
    "\n",
    "print(en_emb.shape)\n",
    "print(sample_csa(en_emb).shape)"
   ]
  },
  {
   "cell_type": "code",
   "execution_count": 40,
   "metadata": {
    "colab": {
     "base_uri": "https://localhost:8080/"
    },
    "executionInfo": {
     "elapsed": 11,
     "status": "ok",
     "timestamp": 1678668505078,
     "user": {
      "displayName": "이엽",
      "userId": "04261185762232439637"
     },
     "user_tz": -540
    },
    "id": "qlZCHZOCk64K",
    "outputId": "d9f9adc0-610e-461d-8531-dbb95e316c1b"
   },
   "outputs": [
    {
     "data": {
      "text/plain": [
       "5.9604645e-07"
      ]
     },
     "execution_count": 40,
     "metadata": {},
     "output_type": "execute_result"
    }
   ],
   "source": [
    "out1 = sample_csa(embed_en(en[:, :3])) \n",
    "out2 = sample_csa(embed_en(en))[:, :3]\n",
    "\n",
    "tf.reduce_max(abs(out1 - out2)).numpy()"
   ]
  },
  {
   "cell_type": "markdown",
   "metadata": {
    "id": "_KpSAl6qmncU"
   },
   "source": [
    "#### The feed forward network"
   ]
  },
  {
   "cell_type": "code",
   "execution_count": 41,
   "metadata": {
    "executionInfo": {
     "elapsed": 8,
     "status": "ok",
     "timestamp": 1678668505078,
     "user": {
      "displayName": "이엽",
      "userId": "04261185762232439637"
     },
     "user_tz": -540
    },
    "id": "wDsuTn5mgTIM"
   },
   "outputs": [],
   "source": [
    "class FeedForward(tf.keras.layers.Layer):\n",
    "  def __init__(self, d_model, dff, dropout_rate=0.1):\n",
    "    super().__init__()\n",
    "    self.seq = tf.keras.Sequential([\n",
    "      tf.keras.layers.Dense(dff, activation='relu'),\n",
    "      tf.keras.layers.Dense(d_model),\n",
    "      tf.keras.layers.Dropout(dropout_rate)\n",
    "    ])\n",
    "    self.add = tf.keras.layers.Add()\n",
    "    self.layer_norm = tf.keras.layers.LayerNormalization()\n",
    "\n",
    "  def call(self, x):\n",
    "    x = self.add([x, self.seq(x)])\n",
    "    x = self.layer_norm(x) \n",
    "    return x"
   ]
  },
  {
   "cell_type": "code",
   "execution_count": 42,
   "metadata": {
    "colab": {
     "base_uri": "https://localhost:8080/"
    },
    "executionInfo": {
     "elapsed": 9,
     "status": "ok",
     "timestamp": 1678668505079,
     "user": {
      "displayName": "이엽",
      "userId": "04261185762232439637"
     },
     "user_tz": -540
    },
    "id": "XAeT-sxWk-fD",
    "outputId": "83b2aabe-51e3-4da6-f382-29fbd6924855"
   },
   "outputs": [
    {
     "name": "stdout",
     "output_type": "stream",
     "text": [
      "(64, 20, 512)\n",
      "(64, 20, 512)\n"
     ]
    }
   ],
   "source": [
    "sample_ffn = FeedForward(D_MODEL, DFF)\n",
    "\n",
    "print(en_emb.shape)\n",
    "print(sample_ffn(en_emb).shape)"
   ]
  },
  {
   "cell_type": "markdown",
   "metadata": {
    "id": "BQ9QlxATP5D9"
   },
   "source": [
    "#### The encoder layer"
   ]
  },
  {
   "cell_type": "code",
   "execution_count": 43,
   "metadata": {
    "executionInfo": {
     "elapsed": 7,
     "status": "ok",
     "timestamp": 1678668505079,
     "user": {
      "displayName": "이엽",
      "userId": "04261185762232439637"
     },
     "user_tz": -540
    },
    "id": "KiLVCOF6gTFZ"
   },
   "outputs": [],
   "source": [
    "class EncoderLayer(tf.keras.layers.Layer):\n",
    "  def __init__(self,*, d_model, num_heads, dff, dropout_rate=0.1):\n",
    "    super().__init__()\n",
    "\n",
    "    self.self_attention = GlobalSelfAttention(\n",
    "        num_heads=num_heads,\n",
    "        key_dim=d_model,\n",
    "        dropout=dropout_rate)\n",
    "\n",
    "    self.ffn = FeedForward(d_model, dff)\n",
    "\n",
    "  def call(self, x):\n",
    "    x = self.self_attention(x)\n",
    "    x = self.ffn(x)\n",
    "    return x"
   ]
  },
  {
   "cell_type": "code",
   "execution_count": 44,
   "metadata": {
    "colab": {
     "base_uri": "https://localhost:8080/"
    },
    "executionInfo": {
     "elapsed": 7,
     "status": "ok",
     "timestamp": 1678668505079,
     "user": {
      "displayName": "이엽",
      "userId": "04261185762232439637"
     },
     "user_tz": -540
    },
    "id": "n3xKYoVplCCh",
    "outputId": "61eb5d40-9f03-4197-f702-c61b6a0a73f2"
   },
   "outputs": [
    {
     "name": "stdout",
     "output_type": "stream",
     "text": [
      "(64, 20, 512)\n",
      "(64, 20, 512)\n"
     ]
    }
   ],
   "source": [
    "sample_encoder_layer = EncoderLayer(d_model=D_MODEL, num_heads=NUM_HEADS, dff=DFF)\n",
    "\n",
    "print(pt_emb.shape)\n",
    "print(sample_encoder_layer(pt_emb).shape)"
   ]
  },
  {
   "cell_type": "code",
   "execution_count": 45,
   "metadata": {
    "executionInfo": {
     "elapsed": 250,
     "status": "ok",
     "timestamp": 1678668505325,
     "user": {
      "displayName": "이엽",
      "userId": "04261185762232439637"
     },
     "user_tz": -540
    },
    "id": "vKHyLe7ZgTCV"
   },
   "outputs": [],
   "source": [
    "class Encoder(tf.keras.layers.Layer):\n",
    "  def __init__(self, *, num_layers, d_model, num_heads,\n",
    "               dff, vocab_size, dropout_rate=0.1, **kwargs):\n",
    "    super().__init__()\n",
    "\n",
    "    self.d_model = d_model\n",
    "    self.num_layers = num_layers\n",
    "\n",
    "    self.pos_embedding = PositionalEmbedding(\n",
    "        vocab_size=vocab_size, d_model=d_model)\n",
    "\n",
    "    self.enc_layers = [\n",
    "        EncoderLayer(d_model=d_model,\n",
    "                     num_heads=num_heads,\n",
    "                     dff=dff,\n",
    "                     dropout_rate=dropout_rate)\n",
    "        for _ in range(num_layers)]\n",
    "    self.dropout = tf.keras.layers.Dropout(dropout_rate)\n",
    "\n",
    "  def call(self, x):\n",
    "    # `x` is token-IDs shape: (batch, seq_len)\n",
    "    x = self.pos_embedding(x)  # Shape `(batch_size, seq_len, d_model)`.\n",
    "\n",
    "    # Add dropout.\n",
    "    x = self.dropout(x)\n",
    "\n",
    "    for i in range(self.num_layers):\n",
    "      x = self.enc_layers[i](x)\n",
    "\n",
    "    return x  # Shape `(batch_size, seq_len, d_model)`."
   ]
  },
  {
   "cell_type": "code",
   "execution_count": 46,
   "metadata": {
    "colab": {
     "base_uri": "https://localhost:8080/"
    },
    "executionInfo": {
     "elapsed": 3,
     "status": "ok",
     "timestamp": 1678668505325,
     "user": {
      "displayName": "이엽",
      "userId": "04261185762232439637"
     },
     "user_tz": -540
    },
    "id": "uHRjt8U9lXnJ",
    "outputId": "bed5cb68-1f35-495e-d329-2d5de992858a"
   },
   "outputs": [
    {
     "name": "stdout",
     "output_type": "stream",
     "text": [
      "(64, 20)\n",
      "(64, 20, 512)\n"
     ]
    }
   ],
   "source": [
    "# Instantiate the encoder.\n",
    "sample_encoder = Encoder(num_layers=NUM_LAYERS,\n",
    "                         d_model=D_MODEL,\n",
    "                         num_heads=NUM_HEADS,\n",
    "                         dff=DFF,\n",
    "                         vocab_size=VOCAB_SIZE)\n",
    "\n",
    "sample_encoder_output = sample_encoder(pt, training=False)\n",
    "\n",
    "# Print the shape.\n",
    "print(pt.shape)\n",
    "print(sample_encoder_output.shape)  # Shape `(batch_size, input_seq_len, d_model)`."
   ]
  },
  {
   "cell_type": "markdown",
   "metadata": {
    "id": "A4KRghcUP7jV"
   },
   "source": [
    "#### The decoder layer"
   ]
  },
  {
   "cell_type": "code",
   "execution_count": 47,
   "metadata": {
    "executionInfo": {
     "elapsed": 4,
     "status": "ok",
     "timestamp": 1678668505326,
     "user": {
      "displayName": "이엽",
      "userId": "04261185762232439637"
     },
     "user_tz": -540
    },
    "id": "nG-aZ3bDjATc"
   },
   "outputs": [],
   "source": [
    "class DecoderLayer(tf.keras.layers.Layer):\n",
    "  def __init__(self,\n",
    "               *,\n",
    "               d_model,\n",
    "               num_heads,\n",
    "               dff,\n",
    "               dropout_rate=0.1):\n",
    "    super(DecoderLayer, self).__init__()\n",
    "\n",
    "    self.causal_self_attention = CausalSelfAttention(\n",
    "        num_heads=num_heads,\n",
    "        key_dim=d_model,\n",
    "        dropout=dropout_rate)\n",
    "\n",
    "    self.cross_attention = CrossAttention(\n",
    "        num_heads=num_heads,\n",
    "        key_dim=d_model,\n",
    "        dropout=dropout_rate)\n",
    "\n",
    "    self.ffn = FeedForward(d_model, dff)\n",
    "\n",
    "  def call(self, x, context):\n",
    "    x = self.causal_self_attention(x=x)\n",
    "    x = self.cross_attention(x=x, context=context)\n",
    "\n",
    "    # Cache the last attention scores for plotting later\n",
    "    self.last_attn_scores = self.cross_attention.last_attn_scores\n",
    "\n",
    "    x = self.ffn(x)  # Shape `(batch_size, seq_len, d_model)`.\n",
    "    return x"
   ]
  },
  {
   "cell_type": "code",
   "execution_count": 48,
   "metadata": {
    "colab": {
     "base_uri": "https://localhost:8080/"
    },
    "executionInfo": {
     "elapsed": 285,
     "status": "ok",
     "timestamp": 1678668505607,
     "user": {
      "displayName": "이엽",
      "userId": "04261185762232439637"
     },
     "user_tz": -540
    },
    "id": "cr6ZAWyqmYEC",
    "outputId": "07c5ea89-b803-4c70-8112-c46feda51b1d"
   },
   "outputs": [
    {
     "name": "stdout",
     "output_type": "stream",
     "text": [
      "(64, 20, 512)\n",
      "(64, 20, 512)\n",
      "(64, 20, 512)\n"
     ]
    }
   ],
   "source": [
    "sample_decoder_layer = DecoderLayer(d_model=D_MODEL, num_heads=NUM_HEADS, dff=DFF)\n",
    "\n",
    "sample_decoder_layer_output = sample_decoder_layer(\n",
    "    x=en_emb, context=pt_emb)\n",
    "\n",
    "print(en_emb.shape)\n",
    "print(pt_emb.shape)\n",
    "print(sample_decoder_layer_output.shape)  # `(batch_size, seq_len, d_model)`"
   ]
  },
  {
   "cell_type": "code",
   "execution_count": 49,
   "metadata": {
    "executionInfo": {
     "elapsed": 2,
     "status": "ok",
     "timestamp": 1678668505607,
     "user": {
      "displayName": "이엽",
      "userId": "04261185762232439637"
     },
     "user_tz": -540
    },
    "id": "XlxIPc1djAbh"
   },
   "outputs": [],
   "source": [
    "class Decoder(tf.keras.layers.Layer):\n",
    "  def __init__(self, *, num_layers, d_model, num_heads, dff, vocab_size,\n",
    "               dropout_rate=0.1):\n",
    "    super(Decoder, self).__init__()\n",
    "\n",
    "    self.d_model = d_model\n",
    "    self.num_layers = num_layers\n",
    "\n",
    "    self.pos_embedding = PositionalEmbedding(vocab_size=vocab_size,\n",
    "                                             d_model=d_model)\n",
    "    self.dropout = tf.keras.layers.Dropout(dropout_rate)\n",
    "    self.dec_layers = [\n",
    "        DecoderLayer(d_model=d_model, num_heads=num_heads,\n",
    "                     dff=dff, dropout_rate=dropout_rate)\n",
    "        for _ in range(num_layers)]\n",
    "\n",
    "    self.last_attn_scores = None\n",
    "\n",
    "  def call(self, x, context):\n",
    "    # `x` is token-IDs shape (batch, target_seq_len)\n",
    "    x = self.pos_embedding(x)  # (batch_size, target_seq_len, d_model)\n",
    "\n",
    "    x = self.dropout(x)\n",
    "\n",
    "    for i in range(self.num_layers):\n",
    "      x  = self.dec_layers[i](x, context)\n",
    "\n",
    "    self.last_attn_scores = self.dec_layers[-1].last_attn_scores\n",
    "\n",
    "    # The shape of x is (batch_size, target_seq_len, d_model).\n",
    "    return x"
   ]
  },
  {
   "cell_type": "code",
   "execution_count": 50,
   "metadata": {
    "colab": {
     "base_uri": "https://localhost:8080/"
    },
    "executionInfo": {
     "elapsed": 320,
     "status": "ok",
     "timestamp": 1678668505925,
     "user": {
      "displayName": "이엽",
      "userId": "04261185762232439637"
     },
     "user_tz": -540
    },
    "id": "ODYUpL0KnDT6",
    "outputId": "88c1e4b9-d90d-4d56-bb69-dcafb000ab54"
   },
   "outputs": [
    {
     "name": "stdout",
     "output_type": "stream",
     "text": [
      "(64, 20)\n",
      "(64, 20, 512)\n",
      "(64, 20, 512)\n"
     ]
    }
   ],
   "source": [
    "# Instantiate the decoder.\n",
    "sample_decoder = Decoder(num_layers=NUM_LAYERS,\n",
    "                         d_model=D_MODEL,\n",
    "                         num_heads=NUM_HEADS,\n",
    "                         dff=DFF,\n",
    "                         vocab_size=VOCAB_SIZE)\n",
    "\n",
    "output = sample_decoder(\n",
    "    x=en,\n",
    "    context=pt_emb)\n",
    "\n",
    "# Print the shapes.\n",
    "print(en.shape)\n",
    "print(pt_emb.shape)\n",
    "print(output.shape)"
   ]
  },
  {
   "cell_type": "markdown",
   "metadata": {
    "id": "QI69sUwYQBCV"
   },
   "source": [
    "#### The Transformer"
   ]
  },
  {
   "cell_type": "code",
   "execution_count": 51,
   "metadata": {
    "executionInfo": {
     "elapsed": 2,
     "status": "ok",
     "timestamp": 1678668505925,
     "user": {
      "displayName": "이엽",
      "userId": "04261185762232439637"
     },
     "user_tz": -540
    },
    "id": "l02cSL4WjAcS"
   },
   "outputs": [],
   "source": [
    "class Transformer(tf.keras.Model):\n",
    "  def __init__(self, *, num_layers, d_model, num_heads, dff,\n",
    "               input_vocab_size, target_vocab_size, dropout_rate=0.1):\n",
    "    super().__init__()\n",
    "    self.encoder = Encoder(num_layers=num_layers, d_model=d_model,\n",
    "                           num_heads=num_heads, dff=dff,\n",
    "                           vocab_size=input_vocab_size,\n",
    "                           dropout_rate=dropout_rate)\n",
    "\n",
    "    self.decoder = Decoder(num_layers=num_layers, d_model=d_model,\n",
    "                           num_heads=num_heads, dff=dff,\n",
    "                           vocab_size=target_vocab_size,\n",
    "                           dropout_rate=dropout_rate)\n",
    "\n",
    "    self.final_layer = tf.keras.layers.Dense(target_vocab_size)\n",
    "\n",
    "  def call(self, inputs):\n",
    "    # To use a Keras model with `.fit` you must pass all your inputs in the\n",
    "    # first argument.\n",
    "    context, x  = inputs\n",
    "\n",
    "    context = self.encoder(context)  # (batch_size, context_len, d_model)\n",
    "\n",
    "    x = self.decoder(x, context)  # (batch_size, target_len, d_model)\n",
    "\n",
    "    # Final linear layer output.\n",
    "    logits = self.final_layer(x)  # (batch_size, target_len, target_vocab_size)\n",
    "\n",
    "    try:\n",
    "      # Drop the keras mask, so it doesn't scale the losses/metrics.\n",
    "      # b/250038731\n",
    "      del logits._keras_mask\n",
    "    except AttributeError:\n",
    "      pass\n",
    "\n",
    "    # Return the final output and the attention weights.\n",
    "    return logits"
   ]
  },
  {
   "cell_type": "code",
   "execution_count": 52,
   "metadata": {
    "executionInfo": {
     "elapsed": 2,
     "status": "ok",
     "timestamp": 1678668505925,
     "user": {
      "displayName": "이엽",
      "userId": "04261185762232439637"
     },
     "user_tz": -540
    },
    "id": "HgiNjojpjAdN"
   },
   "outputs": [],
   "source": [
    "transformer = Transformer(\n",
    "    num_layers=NUM_LAYERS,\n",
    "    d_model=D_MODEL,\n",
    "    num_heads=NUM_HEADS,\n",
    "    dff=DFF,\n",
    "    input_vocab_size=VOCAB_SIZE,\n",
    "    target_vocab_size=VOCAB_SIZE,\n",
    "    dropout_rate=DROPOUT)"
   ]
  },
  {
   "cell_type": "code",
   "execution_count": 53,
   "metadata": {
    "colab": {
     "base_uri": "https://localhost:8080/"
    },
    "executionInfo": {
     "elapsed": 496,
     "status": "ok",
     "timestamp": 1678668506420,
     "user": {
      "displayName": "이엽",
      "userId": "04261185762232439637"
     },
     "user_tz": -540
    },
    "id": "QQNoqbW8nSp5",
    "outputId": "80580e2d-25d9-4c18-f627-7e469693cc03"
   },
   "outputs": [
    {
     "name": "stdout",
     "output_type": "stream",
     "text": [
      "(64, 20)\n",
      "(64, 20)\n",
      "(64, 20, 9980)\n"
     ]
    }
   ],
   "source": [
    "output = transformer((pt, en))\n",
    "\n",
    "print(en.shape)\n",
    "print(pt.shape)\n",
    "print(output.shape)"
   ]
  },
  {
   "cell_type": "code",
   "execution_count": 54,
   "metadata": {
    "colab": {
     "base_uri": "https://localhost:8080/"
    },
    "executionInfo": {
     "elapsed": 14,
     "status": "ok",
     "timestamp": 1678668506421,
     "user": {
      "displayName": "이엽",
      "userId": "04261185762232439637"
     },
     "user_tz": -540
    },
    "id": "MXQklks7noB_",
    "outputId": "f74c872a-e3b7-497a-8d26-ccbb25f3bd89"
   },
   "outputs": [
    {
     "name": "stdout",
     "output_type": "stream",
     "text": [
      "(64, 4, 20, 20)\n"
     ]
    }
   ],
   "source": [
    "attn_scores = transformer.decoder.dec_layers[-1].last_attn_scores\n",
    "print(attn_scores.shape)  # (batch, heads, target_seq, input_seq)"
   ]
  },
  {
   "cell_type": "code",
   "execution_count": 55,
   "metadata": {
    "colab": {
     "base_uri": "https://localhost:8080/"
    },
    "executionInfo": {
     "elapsed": 9,
     "status": "ok",
     "timestamp": 1678668506421,
     "user": {
      "displayName": "이엽",
      "userId": "04261185762232439637"
     },
     "user_tz": -540
    },
    "id": "N0xC41gsnqHH",
    "outputId": "0a4e0b5c-1151-4fa8-b600-bd8359ce9371"
   },
   "outputs": [
    {
     "name": "stdout",
     "output_type": "stream",
     "text": [
      "Model: \"transformer\"\n",
      "_________________________________________________________________\n",
      " Layer (type)                Output Shape              Param #   \n",
      "=================================================================\n",
      " encoder_1 (Encoder)         multiple                  14041600  \n",
      "                                                                 \n",
      " decoder_1 (Decoder)         multiple                  22445568  \n",
      "                                                                 \n",
      " dense_22 (Dense)            multiple                  5119740   \n",
      "                                                                 \n",
      "=================================================================\n",
      "Total params: 41,606,908\n",
      "Trainable params: 41,606,908\n",
      "Non-trainable params: 0\n",
      "_________________________________________________________________\n"
     ]
    }
   ],
   "source": [
    "transformer.summary()"
   ]
  },
  {
   "cell_type": "markdown",
   "metadata": {
    "id": "k1mflRl8QVZ9"
   },
   "source": [
    "### Training"
   ]
  },
  {
   "cell_type": "markdown",
   "metadata": {
    "id": "JYszlYaqQNQt"
   },
   "source": [
    "#### Set up the optimizer"
   ]
  },
  {
   "cell_type": "code",
   "execution_count": 56,
   "metadata": {
    "executionInfo": {
     "elapsed": 5,
     "status": "ok",
     "timestamp": 1678668506421,
     "user": {
      "displayName": "이엽",
      "userId": "04261185762232439637"
     },
     "user_tz": -540
    },
    "id": "mSLITihWjAd8"
   },
   "outputs": [],
   "source": [
    "class CustomSchedule(tf.keras.optimizers.schedules.LearningRateSchedule):\n",
    "  def __init__(self, d_model, warmup_steps=2000):\n",
    "    super().__init__()\n",
    "\n",
    "    self.d_model = d_model\n",
    "    self.d_model = tf.cast(self.d_model, tf.float32)\n",
    "\n",
    "    self.warmup_steps = warmup_steps\n",
    "\n",
    "  def __call__(self, step):\n",
    "    step = tf.cast(step, dtype=tf.float32)\n",
    "    arg1 = tf.math.rsqrt(step)\n",
    "    arg2 = step * (self.warmup_steps ** -1.5)\n",
    "\n",
    "    return tf.math.rsqrt(self.d_model) * tf.math.minimum(arg1, arg2)"
   ]
  },
  {
   "cell_type": "code",
   "execution_count": 57,
   "metadata": {
    "executionInfo": {
     "elapsed": 4,
     "status": "ok",
     "timestamp": 1678668506421,
     "user": {
      "displayName": "이엽",
      "userId": "04261185762232439637"
     },
     "user_tz": -540
    },
    "id": "VwEYDQSCjAeu"
   },
   "outputs": [],
   "source": [
    "learning_rate = CustomSchedule(D_MODEL)\n",
    "\n",
    "optimizer = tf.keras.optimizers.Adam(learning_rate, beta_1=0.9, beta_2=0.98,\n",
    "                                     epsilon=1e-9)"
   ]
  },
  {
   "cell_type": "code",
   "execution_count": 58,
   "metadata": {
    "colab": {
     "base_uri": "https://localhost:8080/",
     "height": 279
    },
    "executionInfo": {
     "elapsed": 402,
     "status": "ok",
     "timestamp": 1678668506819,
     "user": {
      "displayName": "이엽",
      "userId": "04261185762232439637"
     },
     "user_tz": -540
    },
    "id": "p4Sr5x6tjAfc",
    "outputId": "71049fb1-b0f6-4ef1-94eb-1d7f804a6bb0"
   },
   "outputs": [
    {
     "data": {
      "image/png": "[encoded data removed]",
      "text/plain": [
       "<Figure size 640x480 with 1 Axes>"
      ]
     },
     "metadata": {},
     "output_type": "display_data"
    }
   ],
   "source": [
    "plt.plot(learning_rate(tf.range(20000, dtype=tf.float32)))\n",
    "plt.ylabel('Learning Rate')\n",
    "plt.xlabel('Train Step')\n",
    "plt.show()"
   ]
  },
  {
   "cell_type": "code",
   "execution_count": 59,
   "metadata": {
    "executionInfo": {
     "elapsed": 5,
     "status": "ok",
     "timestamp": 1678668506819,
     "user": {
      "displayName": "이엽",
      "userId": "04261185762232439637"
     },
     "user_tz": -540
    },
    "id": "G79WkWhCjAgH"
   },
   "outputs": [],
   "source": [
    "def masked_loss(label, pred):\n",
    "  mask = label != 0\n",
    "  loss_object = tf.keras.losses.SparseCategoricalCrossentropy(\n",
    "    from_logits=True, reduction='none')\n",
    "  loss = loss_object(label, pred)\n",
    "\n",
    "  mask = tf.cast(mask, dtype=loss.dtype)\n",
    "  loss *= mask\n",
    "\n",
    "  loss = tf.reduce_sum(loss)/tf.reduce_sum(mask)\n",
    "  return loss\n",
    "\n",
    "\n",
    "def masked_accuracy(label, pred):\n",
    "  pred = tf.argmax(pred, axis=2)\n",
    "  label = tf.cast(label, pred.dtype)\n",
    "  match = label == pred\n",
    "\n",
    "  mask = label != 0\n",
    "\n",
    "  match = match & mask\n",
    "\n",
    "  match = tf.cast(match, dtype=tf.float32)\n",
    "  mask = tf.cast(mask, dtype=tf.float32)\n",
    "  return tf.reduce_sum(match)/tf.reduce_sum(mask)"
   ]
  },
  {
   "cell_type": "markdown",
   "metadata": {
    "id": "wlLZPSOKQZnc"
   },
   "source": [
    "#### Train the model"
   ]
  },
  {
   "cell_type": "code",
   "execution_count": 60,
   "metadata": {
    "executionInfo": {
     "elapsed": 4,
     "status": "ok",
     "timestamp": 1678668506819,
     "user": {
      "displayName": "이엽",
      "userId": "04261185762232439637"
     },
     "user_tz": -540
    },
    "id": "nzNska-PjAhC"
   },
   "outputs": [],
   "source": [
    "transformer.compile(\n",
    "    loss=masked_loss,\n",
    "    optimizer=optimizer,\n",
    "    metrics=[masked_accuracy])"
   ]
  },
  {
   "cell_type": "code",
   "execution_count": 61,
   "metadata": {
    "colab": {
     "base_uri": "https://localhost:8080/"
    },
    "executionInfo": {
     "elapsed": 76240,
     "status": "ok",
     "timestamp": 1678548476963,
     "user": {
      "displayName": "이엽",
      "userId": "04261185762232439637"
     },
     "user_tz": -540
    },
    "id": "gaPxT2sRjAhw",
    "outputId": "bc416cf0-0308-43fc-d02b-e2839663706b"
   },
   "outputs": [
    {
     "name": "stdout",
     "output_type": "stream",
     "text": [
      "Epoch 1/10\n",
      "729/729 [==============================] - 139s 173ms/step - loss: 6.1807 - masked_accuracy: 0.2191 - val_loss: 4.8250 - val_masked_accuracy: 0.3093\n",
      "Epoch 2/10\n",
      "729/729 [==============================] - 100s 137ms/step - loss: 4.3334 - masked_accuracy: 0.3397 - val_loss: 4.1106 - val_masked_accuracy: 0.3523\n",
      "Epoch 3/10\n",
      "729/729 [==============================] - 99s 136ms/step - loss: 3.7598 - masked_accuracy: 0.3674 - val_loss: 3.9266 - val_masked_accuracy: 0.3586\n",
      "Epoch 4/10\n",
      "729/729 [==============================] - 99s 135ms/step - loss: 3.2629 - masked_accuracy: 0.4008 - val_loss: 3.6909 - val_masked_accuracy: 0.3796\n",
      "Epoch 5/10\n",
      "729/729 [==============================] - 99s 136ms/step - loss: 2.7084 - masked_accuracy: 0.4540 - val_loss: 3.6359 - val_masked_accuracy: 0.3938\n",
      "Epoch 6/10\n",
      "729/729 [==============================] - 99s 136ms/step - loss: 2.2159 - masked_accuracy: 0.5184 - val_loss: 3.6725 - val_masked_accuracy: 0.4038\n",
      "Epoch 7/10\n",
      "729/729 [==============================] - 100s 137ms/step - loss: 1.7938 - masked_accuracy: 0.5847 - val_loss: 3.8102 - val_masked_accuracy: 0.4057\n",
      "Epoch 8/10\n",
      "729/729 [==============================] - 100s 138ms/step - loss: 1.4383 - masked_accuracy: 0.6512 - val_loss: 4.0042 - val_masked_accuracy: 0.4103\n",
      "Epoch 9/10\n",
      "729/729 [==============================] - 100s 137ms/step - loss: 1.1447 - masked_accuracy: 0.7120 - val_loss: 4.1997 - val_masked_accuracy: 0.4088\n",
      "Epoch 10/10\n",
      "729/729 [==============================] - 101s 139ms/step - loss: 0.9276 - masked_accuracy: 0.7604 - val_loss: 4.4006 - val_masked_accuracy: 0.4059\n",
      "CPU times: user 10min 26s, sys: 4min 47s, total: 15min 13s\n",
      "Wall time: 17min 16s\n"
     ]
    }
   ],
   "source": [
    "%%time\n",
    "t_tistory = transformer.fit(train_batches,\n",
    "                epochs=EPOCHS,\n",
    "                validation_data=val_batches)"
   ]
  },
  {
   "cell_type": "code",
   "execution_count": 62,
   "metadata": {
    "colab": {
     "base_uri": "https://localhost:8080/",
     "height": 265
    },
    "executionInfo": {
     "elapsed": 18,
     "status": "ok",
     "timestamp": 1678548476964,
     "user": {
      "displayName": "이엽",
      "userId": "04261185762232439637"
     },
     "user_tz": -540
    },
    "id": "uaNBiuZRscFZ",
    "outputId": "1a04a3ac-78cc-467e-f476-729bdc322baf"
   },
   "outputs": [
    {
     "data": {
      "image/png": "[encoded data removed]",
      "text/plain": [
       "<Figure size 640x480 with 1 Axes>"
      ]
     },
     "metadata": {},
     "output_type": "display_data"
    }
   ],
   "source": [
    "plt.plot(t_tistory.history[\"loss\"], label=\"Training Loss\")\n",
    "plt.plot(t_tistory.history[\"val_loss\"], label=\"Validation Loss\")\n",
    "plt.legend()\n",
    "plt.show()"
   ]
  },
  {
   "cell_type": "code",
   "execution_count": 63,
   "metadata": {
    "id": "tam3_Wy1VQhu"
   },
   "outputs": [],
   "source": [
    "def evaluate(sentence):\n",
    "  sentence = preprocess_sentence(sentence)\n",
    "\n",
    "  sentence = tf.expand_dims(\n",
    "      START_TOKEN + tokenizer.encode(sentence) + END_TOKEN, axis=0)\n",
    "\n",
    "  output = tf.expand_dims(START_TOKEN, 0)\n",
    "\n",
    "  # 디코더의 예측 시작\n",
    "  for i in range(MAX_LENGTH):\n",
    "    predictions = transformer(inputs=[sentence, output], training=False)\n",
    "\n",
    "    # 현재(마지막) 시점의 예측 단어를 받아온다.\n",
    "    predictions = predictions[:, -1:, :]\n",
    "    predicted_id = tf.cast(tf.argmax(predictions, axis=-1), tf.int32)\n",
    "\n",
    "    # 만약 마지막 시점의 예측 단어가 종료 토큰이라면 예측을 중단\n",
    "    if tf.equal(predicted_id, END_TOKEN[0]):\n",
    "      break\n",
    "\n",
    "    # 마지막 시점의 예측 단어를 출력에 연결한다.\n",
    "    # 이는 for문을 통해서 디코더의 입력으로 사용될 예정이다.\n",
    "    output = tf.concat([output, predicted_id], axis=-1)\n",
    "\n",
    "  return tf.squeeze(output, axis=0)\n",
    "\n",
    "\n",
    "def predict(sentence):\n",
    "  prediction = evaluate(sentence)\n",
    "\n",
    "  predicted_sentence = tokenizer.decode(\n",
    "      [i for i in prediction if i < tokenizer.vocab_size])\n",
    "\n",
    "  print('질문 : \"{}\"'.format(sentence))\n",
    "  print('답변 : \"{}\"'.format(predicted_sentence))\n",
    "\n",
    "  return predicted_sentence\n",
    "\n",
    "def preprocess_sentence(sentence):\n",
    "  sentence = re.sub(r\"([?.!,])\", r\" \\1 \", sentence)\n",
    "  sentence = sentence.strip()\n",
    "  return sentence"
   ]
  },
  {
   "cell_type": "markdown",
   "metadata": {
    "id": "lX4b2r_MQk2F"
   },
   "source": [
    "### Test Chat"
   ]
  },
  {
   "cell_type": "code",
   "execution_count": 64,
   "metadata": {
    "colab": {
     "base_uri": "https://localhost:8080/"
    },
    "executionInfo": {
     "elapsed": 16,
     "status": "ok",
     "timestamp": 1678548476964,
     "user": {
      "displayName": "이엽",
      "userId": "04261185762232439637"
     },
     "user_tz": -540
    },
    "id": "sA-epIvWUEAG",
    "outputId": "1e29c4d7-5cb0-4049-cfbf-4a1b5a9fed41"
   },
   "outputs": [
    {
     "name": "stdout",
     "output_type": "stream",
     "text": [
      "질문 : \"취업하기 위해서 열심히 준비하고 있지만, 직장을 구하지 못할까봐 걱정되\"\n",
      "답변 : \"취업 준비로 걱정이 많으시군요 .\"\n",
      "CPU times: user 639 ms, sys: 99.8 ms, total: 739 ms\n",
      "Wall time: 764 ms\n"
     ]
    }
   ],
   "source": [
    "%%time\n",
    "output = predict('취업하기 위해서 열심히 준비하고 있지만, 직장을 구하지 못할까봐 걱정되')"
   ]
  },
  {
   "cell_type": "code",
   "execution_count": 65,
   "metadata": {
    "colab": {
     "base_uri": "https://localhost:8080/"
    },
    "executionInfo": {
     "elapsed": 11,
     "status": "ok",
     "timestamp": 1678548477385,
     "user": {
      "displayName": "이엽",
      "userId": "04261185762232439637"
     },
     "user_tz": -540
    },
    "id": "bk0tv5lSUED1",
    "outputId": "91b4f25c-7a69-45cb-d101-62a97138616a"
   },
   "outputs": [
    {
     "name": "stdout",
     "output_type": "stream",
     "text": [
      "질문 : \"딸이 나에게 선물을 줬어. 그래서 너무 기뻐\"\n",
      "답변 : \"딸이 선물을 줘서 기쁘시군요 .\"\n",
      "CPU times: user 547 ms, sys: 62.6 ms, total: 610 ms\n",
      "Wall time: 638 ms\n"
     ]
    }
   ],
   "source": [
    "%%time\n",
    "output = predict('딸이 나에게 선물을 줬어. 그래서 너무 기뻐')"
   ]
  },
  {
   "cell_type": "code",
   "execution_count": 66,
   "metadata": {
    "colab": {
     "base_uri": "https://localhost:8080/"
    },
    "executionInfo": {
     "elapsed": 10,
     "status": "ok",
     "timestamp": 1678548477385,
     "user": {
      "displayName": "이엽",
      "userId": "04261185762232439637"
     },
     "user_tz": -540
    },
    "id": "Unq7KfOqKoUI",
    "outputId": "2596161d-50d3-4a37-85ea-aa30502008c3"
   },
   "outputs": [
    {
     "name": "stdout",
     "output_type": "stream",
     "text": [
      "질문 : \"너는 누구니?\"\n",
      "답변 : \"저는 이연준님의 챗봇 이라고 합니다 .\"\n",
      "CPU times: user 1.58 s, sys: 124 ms, total: 1.7 s\n",
      "Wall time: 1.78 s\n"
     ]
    }
   ],
   "source": [
    "%%time\n",
    "output = predict('너는 누구니?')"
   ]
  },
  {
   "cell_type": "code",
   "execution_count": 67,
   "metadata": {
    "colab": {
     "base_uri": "https://localhost:8080/"
    },
    "executionInfo": {
     "elapsed": 9,
     "status": "ok",
     "timestamp": 1678548477386,
     "user": {
      "displayName": "이엽",
      "userId": "04261185762232439637"
     },
     "user_tz": -540
    },
    "id": "tGf5XYz1tE-4",
    "outputId": "70dca10a-06da-41e4-b663-2ba975126c3c"
   },
   "outputs": [
    {
     "name": "stdout",
     "output_type": "stream",
     "text": [
      "질문 : \"아무리 생각해도 너는 멍청한 것 같아\"\n",
      "답변 : \"일종의 애쓰는 것으로 인해 열등감을 느끼시는군요 .\"\n",
      "CPU times: user 1.18 s, sys: 7.25 ms, total: 1.19 s\n",
      "Wall time: 1.24 s\n"
     ]
    }
   ],
   "source": [
    "%%time\n",
    "output = predict('아무리 생각해도 너는 멍청한 것 같아')"
   ]
  },
  {
   "cell_type": "code",
   "execution_count": null,
   "metadata": {
    "id": "RnVFFQBctE-4"
   },
   "outputs": [],
   "source": []
  },
  {
   "cell_type": "code",
   "execution_count": null,
   "metadata": {
    "id": "I2GgGj_BtE-4"
   },
   "outputs": [],
   "source": []
  },
  {
   "cell_type": "code",
   "execution_count": null,
   "metadata": {
    "id": "FtVHhZ8ztE-4"
   },
   "outputs": [],
   "source": []
  },
  {
   "cell_type": "code",
   "execution_count": null,
   "metadata": {
    "id": "MRCstjC3tE-4"
   },
   "outputs": [],
   "source": []
  },
  {
   "cell_type": "code",
   "execution_count": null,
   "metadata": {
    "id": "ReRQlc6NtE-4"
   },
   "outputs": [],
   "source": []
  },
  {
   "cell_type": "code",
   "execution_count": null,
   "metadata": {
    "id": "qAEIaNWVJCCJ"
   },
   "outputs": [],
   "source": []
  }
 ],
 "metadata": {
  "colab": {
   "provenance": [],
   "toc_visible": true
  },
  "gpuClass": "standard",
  "kernelspec": {
   "display_name": "Python 3",
   "language": "python",
   "name": "python3"
  },
  "language_info": {
   "codemirror_mode": {
    "name": "ipython",
    "version": 3
   },
   "file_extension": ".py",
   "mimetype": "text/x-python",
   "name": "python",
   "nbconvert_exporter": "python",
   "pygments_lexer": "ipython3",
   "version": "3.8.10"
  }
 },
 "nbformat": 4,
 "nbformat_minor": 1
}
